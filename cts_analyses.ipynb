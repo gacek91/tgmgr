{
 "cells": [
  {
   "cell_type": "code",
   "execution_count": 1,
   "metadata": {},
   "outputs": [],
   "source": [
    "import pandas as pd, os, os.path as op, numpy as np\n",
    "import matplotlib.pyplot as plt\n",
    "import seaborn as sns\n",
    "import pingouin as pg\n",
    "sns.set()\n",
    "\n",
    "\n",
    "\n",
    "u = lambda x: list(set(x))\n",
    "\n",
    "#make necessary folders\n",
    "if not op.exists('plots'):\n",
    "    os.mkdir('plots')"
   ]
  },
  {
   "cell_type": "code",
   "execution_count": 56,
   "metadata": {},
   "outputs": [],
   "source": [
    "q = pd.read_excel(op.join('data',\"quest.xlsx\"))\n",
    "c = pd.read_excel(op.join('data',\"cogn.xlsx\"))\n",
    "\n",
    "q = q.rename({'Participant Private ID':'id','Grupa':'group','Czy uzywa klawiatury i myszy zewnętrznej do gry lub pracy?':'keymouseuse',\n",
    "         'Wiek':'age','Płec':'sex','Stan cywilny':'marital','Najwyższy ukonczony stopień edukacji':'edu',\n",
    "          'Liczba ukończonych lat edukacji':'eduyears','Wielkość miasta zamieszkania':'size','Częstotliwość gry lub pracy':'pwfreq',\n",
    "         'Ile pełnych lat gra lub pracuje':'pwyears','Średnia liczba godzin gry lub pracy dziennie w ostatnich 3 miesiącach':'pwhrsdaily3mo',\n",
    "         'Średnia liczba godzin gry lub pracy tygodniowo w ostatnich 3 miesiącach':'pwhrsweekly3mo',\n",
    "          'Czy kiedykolwiek czerpał korzyści materialne z grania w gry komputerowe?':'gainsever',\n",
    "          'Czy obecnie utrzymuje się z grania w gry komputerowe?':'upkeepgamesnow',\n",
    "         'Czy planuje kiedyś utrzymywać się z grania w gry komputerowe?':'upkeepgamesfuture'}, axis = 1)\n",
    "\n",
    "c = c.rename({'Participant Private ID':'id','Zadanie':'task','Warunek':'condition',\"Timed Out\":'timeout'},axis=1)\n",
    "c.columns = [col.lower() for col in c.columns]\n",
    "\n",
    "q[\"group\"] = q[\"group\"].map({'Regularnie gram w League of Legends':\"LoL\",\n",
    "                'Regularnie gram w Counter Strike: Global Offensive':\"CS:GO\",\n",
    "                'Regularnie pracuję przy komputerze i nie gram w gry lub robię to rzadko (gry na konsole i smartfony nie są wliczane)':\"Praca\",\n",
    "                'Regularnie pracuję lub uczę się przy komputerze i nie gram w gry lub robię to rzadko (gry na konsole i smartfony nie są wliczane)':\"Praca\"})\n",
    "\n",
    "#drop columns with no variability\n",
    "q = q.drop([col for col in q.columns if q[col].nunique() == 1],axis=1)\n",
    "\n",
    "\n",
    "q['marital'] = q['marital'].map({'Kawaler/ panna':\"Kawaler\",'Żonaty/ zamężna':'Żonaty'})\n",
    "\n",
    "#add group info to cognitive df\n",
    "c[\"group\"] = c['id'].map({pid:q[q['id'] == pid]['group'].values[0] for pid in q['id'].unique()})\n",
    "\n",
    "#change nans into zeros, drop trials with more attempts than possible\n",
    "c['attempt'] = c['attempt'].replace({np.nan:0})\n",
    "c = c[c['attempt'] <= 5]\n",
    "\n",
    "c['trialtype'] = c['task'].apply(lambda x: x.split(\":\")[-1])\n",
    "c['task'] = c['task'].apply(lambda x: x.split(\":\")[0])\n",
    "c['task'] = c['task'].map({'Go/No-Go':'gonogo','Cued Task Switching':'cts','Posner Cueing Task':'posner','Visual Search Click on Location':'vsc'})"
   ]
  },
  {
   "cell_type": "code",
   "execution_count": 3,
   "metadata": {},
   "outputs": [
    {
     "name": "stderr",
     "output_type": "stream",
     "text": [
      "/Library/Frameworks/Python.framework/Versions/3.7/lib/python3.7/site-packages/ipykernel_launcher.py:7: SettingWithCopyWarning: \n",
      "A value is trying to be set on a copy of a slice from a DataFrame.\n",
      "Try using .loc[row_indexer,col_indexer] = value instead\n",
      "\n",
      "See the caveats in the documentation: https://pandas.pydata.org/pandas-docs/stable/user_guide/indexing.html#returning-a-view-versus-a-copy\n",
      "  import sys\n"
     ]
    }
   ],
   "source": [
    "cDict = {}\n",
    "\n",
    "for task in u([t.split(\":\")[0] for t in c['task'].unique()]):\n",
    "    cDict[task] = c[c.task.str.contains(task)]\n",
    "    \n",
    "    if task == 'gonogo':\n",
    "        cDict[task]['trialtype'] = cDict[task]['trialtype'].apply(lambda x: x.split()[0])\n",
    "    else:\n",
    "        cDict[task] = cDict[task].drop(['trialtype'],axis=1)"
   ]
  },
  {
   "cell_type": "code",
   "execution_count": 20,
   "metadata": {},
   "outputs": [],
   "source": [
    "d = cDict['cts']\n",
    "d = d[d['id'] != 2287534]\n",
    "d = d[(d['rt'] >= 100) & (d['rt'] <= 5000)]\n",
    "d = d.drop(['timeout','incorrect'], axis = 1)\n",
    "d['condition'] = d['condition'].map({\"KSZTAŁT\":\"Kształt\",\"KOLOR\":\"Kolor\"})"
   ]
  },
  {
   "cell_type": "code",
   "execution_count": 35,
   "metadata": {},
   "outputs": [],
   "source": [
    "desc = d.groupby(['id','group']).agg(\n",
    "    rt = pd.NamedAgg(column='rt', aggfunc=np.mean),\n",
    "    n = pd.NamedAgg(column='rt', aggfunc=np.size)\n",
    ").reset_index()\n",
    "\n",
    "desc2 = d.groupby(['id','group','correct']).agg(\n",
    "    rt = pd.NamedAgg(column='rt', aggfunc=np.mean),\n",
    "    n = pd.NamedAgg(column='rt', aggfunc=np.size)\n",
    ").reset_index()"
   ]
  },
  {
   "cell_type": "markdown",
   "metadata": {},
   "source": [
    "### Grupa a ogólny RT w zadaniu"
   ]
  },
  {
   "cell_type": "code",
   "execution_count": 39,
   "metadata": {},
   "outputs": [
    {
     "data": {
      "text/html": [
       "<div>\n",
       "<style scoped>\n",
       "    .dataframe tbody tr th:only-of-type {\n",
       "        vertical-align: middle;\n",
       "    }\n",
       "\n",
       "    .dataframe tbody tr th {\n",
       "        vertical-align: top;\n",
       "    }\n",
       "\n",
       "    .dataframe thead th {\n",
       "        text-align: right;\n",
       "    }\n",
       "</style>\n",
       "<table border=\"1\" class=\"dataframe\">\n",
       "  <thead>\n",
       "    <tr style=\"text-align: right;\">\n",
       "      <th></th>\n",
       "      <th>W</th>\n",
       "      <th>pval</th>\n",
       "      <th>equal_var</th>\n",
       "    </tr>\n",
       "  </thead>\n",
       "  <tbody>\n",
       "    <tr>\n",
       "      <th>levene</th>\n",
       "      <td>0.174855</td>\n",
       "      <td>0.840036</td>\n",
       "      <td>True</td>\n",
       "    </tr>\n",
       "  </tbody>\n",
       "</table>\n",
       "</div>"
      ],
      "text/plain": [
       "               W      pval  equal_var\n",
       "levene  0.174855  0.840036       True"
      ]
     },
     "execution_count": 39,
     "metadata": {},
     "output_type": "execute_result"
    }
   ],
   "source": [
    "pg.homoscedasticity(desc, group='group', dv='rt')"
   ]
  },
  {
   "cell_type": "code",
   "execution_count": 40,
   "metadata": {},
   "outputs": [],
   "source": [
    "aov = pg.anova(dv='rt', between='group', data=desc,\n",
    "               detailed=True).round(3)"
   ]
  },
  {
   "cell_type": "code",
   "execution_count": 41,
   "metadata": {},
   "outputs": [
    {
     "data": {
      "text/html": [
       "<div>\n",
       "<style scoped>\n",
       "    .dataframe tbody tr th:only-of-type {\n",
       "        vertical-align: middle;\n",
       "    }\n",
       "\n",
       "    .dataframe tbody tr th {\n",
       "        vertical-align: top;\n",
       "    }\n",
       "\n",
       "    .dataframe thead th {\n",
       "        text-align: right;\n",
       "    }\n",
       "</style>\n",
       "<table border=\"1\" class=\"dataframe\">\n",
       "  <thead>\n",
       "    <tr style=\"text-align: right;\">\n",
       "      <th></th>\n",
       "      <th>Source</th>\n",
       "      <th>SS</th>\n",
       "      <th>DF</th>\n",
       "      <th>MS</th>\n",
       "      <th>F</th>\n",
       "      <th>p-unc</th>\n",
       "      <th>np2</th>\n",
       "    </tr>\n",
       "  </thead>\n",
       "  <tbody>\n",
       "    <tr>\n",
       "      <th>0</th>\n",
       "      <td>group</td>\n",
       "      <td>136263.547</td>\n",
       "      <td>2</td>\n",
       "      <td>68131.773</td>\n",
       "      <td>0.926</td>\n",
       "      <td>0.402</td>\n",
       "      <td>0.032</td>\n",
       "    </tr>\n",
       "    <tr>\n",
       "      <th>1</th>\n",
       "      <td>Within</td>\n",
       "      <td>4118671.979</td>\n",
       "      <td>56</td>\n",
       "      <td>73547.714</td>\n",
       "      <td>NaN</td>\n",
       "      <td>NaN</td>\n",
       "      <td>NaN</td>\n",
       "    </tr>\n",
       "  </tbody>\n",
       "</table>\n",
       "</div>"
      ],
      "text/plain": [
       "   Source           SS  DF         MS      F  p-unc    np2\n",
       "0   group   136263.547   2  68131.773  0.926  0.402  0.032\n",
       "1  Within  4118671.979  56  73547.714    NaN    NaN    NaN"
      ]
     },
     "execution_count": 41,
     "metadata": {},
     "output_type": "execute_result"
    }
   ],
   "source": [
    "aov"
   ]
  },
  {
   "cell_type": "markdown",
   "metadata": {},
   "source": [
    "Nie ma różnic między grupami w ogólnym RT w zadaniu CTS"
   ]
  },
  {
   "cell_type": "markdown",
   "metadata": {},
   "source": [
    "### Grupa i poprawność a RT w zadaniu"
   ]
  },
  {
   "cell_type": "code",
   "execution_count": 42,
   "metadata": {},
   "outputs": [
    {
     "data": {
      "text/html": [
       "<div>\n",
       "<style scoped>\n",
       "    .dataframe tbody tr th:only-of-type {\n",
       "        vertical-align: middle;\n",
       "    }\n",
       "\n",
       "    .dataframe tbody tr th {\n",
       "        vertical-align: top;\n",
       "    }\n",
       "\n",
       "    .dataframe thead th {\n",
       "        text-align: right;\n",
       "    }\n",
       "</style>\n",
       "<table border=\"1\" class=\"dataframe\">\n",
       "  <thead>\n",
       "    <tr style=\"text-align: right;\">\n",
       "      <th></th>\n",
       "      <th>Source</th>\n",
       "      <th>SS</th>\n",
       "      <th>DF1</th>\n",
       "      <th>DF2</th>\n",
       "      <th>MS</th>\n",
       "      <th>F</th>\n",
       "      <th>p-unc</th>\n",
       "      <th>np2</th>\n",
       "      <th>eps</th>\n",
       "    </tr>\n",
       "  </thead>\n",
       "  <tbody>\n",
       "    <tr>\n",
       "      <th>0</th>\n",
       "      <td>group</td>\n",
       "      <td>631809.960</td>\n",
       "      <td>2</td>\n",
       "      <td>56</td>\n",
       "      <td>315904.980</td>\n",
       "      <td>1.271</td>\n",
       "      <td>0.288</td>\n",
       "      <td>0.043</td>\n",
       "      <td>NaN</td>\n",
       "    </tr>\n",
       "    <tr>\n",
       "      <th>1</th>\n",
       "      <td>correct</td>\n",
       "      <td>166907.985</td>\n",
       "      <td>1</td>\n",
       "      <td>56</td>\n",
       "      <td>166907.985</td>\n",
       "      <td>3.542</td>\n",
       "      <td>0.065</td>\n",
       "      <td>0.059</td>\n",
       "      <td>1.0</td>\n",
       "    </tr>\n",
       "    <tr>\n",
       "      <th>2</th>\n",
       "      <td>Interaction</td>\n",
       "      <td>74157.532</td>\n",
       "      <td>2</td>\n",
       "      <td>56</td>\n",
       "      <td>37078.766</td>\n",
       "      <td>0.787</td>\n",
       "      <td>0.460</td>\n",
       "      <td>0.027</td>\n",
       "      <td>NaN</td>\n",
       "    </tr>\n",
       "  </tbody>\n",
       "</table>\n",
       "</div>"
      ],
      "text/plain": [
       "        Source          SS  DF1  DF2          MS      F  p-unc    np2  eps\n",
       "0        group  631809.960    2   56  315904.980  1.271  0.288  0.043  NaN\n",
       "1      correct  166907.985    1   56  166907.985  3.542  0.065  0.059  1.0\n",
       "2  Interaction   74157.532    2   56   37078.766  0.787  0.460  0.027  NaN"
      ]
     },
     "execution_count": 42,
     "metadata": {},
     "output_type": "execute_result"
    }
   ],
   "source": [
    "pg.mixed_anova(data=desc2,dv = 'rt',within='correct',between='group',subject='id').round(3)"
   ]
  },
  {
   "cell_type": "markdown",
   "metadata": {},
   "source": [
    "Nie ma efektu grupy - grupy nie różnią się RT\n",
    "Nie ma efektu poprawaności - nie ma różnic w RT między trialami poprawnymi i niepoprawnymi\n",
    "Nie ma efektu interakcji - Grup i poprawność odp nie różnicują RT"
   ]
  },
  {
   "cell_type": "code",
   "execution_count": 45,
   "metadata": {},
   "outputs": [],
   "source": [
    "corr = d.groupby(['id','group']).agg(\n",
    "    correct = pd.NamedAgg(column='correct', aggfunc=np.mean)\n",
    ").reset_index()"
   ]
  },
  {
   "cell_type": "markdown",
   "metadata": {},
   "source": [
    "### Grupa a poprawność w zadaniu"
   ]
  },
  {
   "cell_type": "code",
   "execution_count": 47,
   "metadata": {},
   "outputs": [
    {
     "data": {
      "text/html": [
       "<div>\n",
       "<style scoped>\n",
       "    .dataframe tbody tr th:only-of-type {\n",
       "        vertical-align: middle;\n",
       "    }\n",
       "\n",
       "    .dataframe tbody tr th {\n",
       "        vertical-align: top;\n",
       "    }\n",
       "\n",
       "    .dataframe thead th {\n",
       "        text-align: right;\n",
       "    }\n",
       "</style>\n",
       "<table border=\"1\" class=\"dataframe\">\n",
       "  <thead>\n",
       "    <tr style=\"text-align: right;\">\n",
       "      <th></th>\n",
       "      <th>W</th>\n",
       "      <th>pval</th>\n",
       "      <th>equal_var</th>\n",
       "    </tr>\n",
       "  </thead>\n",
       "  <tbody>\n",
       "    <tr>\n",
       "      <th>levene</th>\n",
       "      <td>0.927228</td>\n",
       "      <td>0.401637</td>\n",
       "      <td>True</td>\n",
       "    </tr>\n",
       "  </tbody>\n",
       "</table>\n",
       "</div>"
      ],
      "text/plain": [
       "               W      pval  equal_var\n",
       "levene  0.927228  0.401637       True"
      ]
     },
     "execution_count": 47,
     "metadata": {},
     "output_type": "execute_result"
    }
   ],
   "source": [
    "pg.homoscedasticity(corr, group='group', dv='correct')"
   ]
  },
  {
   "cell_type": "code",
   "execution_count": 48,
   "metadata": {},
   "outputs": [],
   "source": [
    "aov = pg.anova(dv='correct', between='group', data=corr,\n",
    "               detailed=True).round(3)"
   ]
  },
  {
   "cell_type": "code",
   "execution_count": 50,
   "metadata": {},
   "outputs": [
    {
     "data": {
      "text/html": [
       "<div>\n",
       "<style scoped>\n",
       "    .dataframe tbody tr th:only-of-type {\n",
       "        vertical-align: middle;\n",
       "    }\n",
       "\n",
       "    .dataframe tbody tr th {\n",
       "        vertical-align: top;\n",
       "    }\n",
       "\n",
       "    .dataframe thead th {\n",
       "        text-align: right;\n",
       "    }\n",
       "</style>\n",
       "<table border=\"1\" class=\"dataframe\">\n",
       "  <thead>\n",
       "    <tr style=\"text-align: right;\">\n",
       "      <th></th>\n",
       "      <th>Source</th>\n",
       "      <th>SS</th>\n",
       "      <th>DF</th>\n",
       "      <th>MS</th>\n",
       "      <th>F</th>\n",
       "      <th>p-unc</th>\n",
       "      <th>np2</th>\n",
       "    </tr>\n",
       "  </thead>\n",
       "  <tbody>\n",
       "    <tr>\n",
       "      <th>0</th>\n",
       "      <td>group</td>\n",
       "      <td>0.014</td>\n",
       "      <td>2</td>\n",
       "      <td>0.007</td>\n",
       "      <td>3.459</td>\n",
       "      <td>0.038</td>\n",
       "      <td>0.11</td>\n",
       "    </tr>\n",
       "    <tr>\n",
       "      <th>1</th>\n",
       "      <td>Within</td>\n",
       "      <td>0.112</td>\n",
       "      <td>56</td>\n",
       "      <td>0.002</td>\n",
       "      <td>NaN</td>\n",
       "      <td>NaN</td>\n",
       "      <td>NaN</td>\n",
       "    </tr>\n",
       "  </tbody>\n",
       "</table>\n",
       "</div>"
      ],
      "text/plain": [
       "   Source     SS  DF     MS      F  p-unc   np2\n",
       "0   group  0.014   2  0.007  3.459  0.038  0.11\n",
       "1  Within  0.112  56  0.002    NaN    NaN   NaN"
      ]
     },
     "execution_count": 50,
     "metadata": {},
     "output_type": "execute_result"
    }
   ],
   "source": [
    "aov"
   ]
  },
  {
   "cell_type": "markdown",
   "metadata": {},
   "source": [
    "Występują różnice między grupami w kontekście poprawności odpowiedzi w zadaniu"
   ]
  },
  {
   "cell_type": "code",
   "execution_count": 52,
   "metadata": {},
   "outputs": [
    {
     "data": {
      "text/html": [
       "<div>\n",
       "<style scoped>\n",
       "    .dataframe tbody tr th:only-of-type {\n",
       "        vertical-align: middle;\n",
       "    }\n",
       "\n",
       "    .dataframe tbody tr th {\n",
       "        vertical-align: top;\n",
       "    }\n",
       "\n",
       "    .dataframe thead th {\n",
       "        text-align: right;\n",
       "    }\n",
       "</style>\n",
       "<table border=\"1\" class=\"dataframe\">\n",
       "  <thead>\n",
       "    <tr style=\"text-align: right;\">\n",
       "      <th></th>\n",
       "      <th>Contrast</th>\n",
       "      <th>A</th>\n",
       "      <th>B</th>\n",
       "      <th>mean(A)</th>\n",
       "      <th>std(A)</th>\n",
       "      <th>mean(B)</th>\n",
       "      <th>std(B)</th>\n",
       "      <th>Paired</th>\n",
       "      <th>Parametric</th>\n",
       "      <th>T</th>\n",
       "      <th>dof</th>\n",
       "      <th>Tail</th>\n",
       "      <th>p-unc</th>\n",
       "      <th>p-corr</th>\n",
       "      <th>p-adjust</th>\n",
       "      <th>BF10</th>\n",
       "      <th>hedges</th>\n",
       "    </tr>\n",
       "  </thead>\n",
       "  <tbody>\n",
       "    <tr>\n",
       "      <th>0</th>\n",
       "      <td>group</td>\n",
       "      <td>LoL</td>\n",
       "      <td>Praca</td>\n",
       "      <td>0.933</td>\n",
       "      <td>0.060</td>\n",
       "      <td>0.970</td>\n",
       "      <td>0.031</td>\n",
       "      <td>False</td>\n",
       "      <td>True</td>\n",
       "      <td>-2.424</td>\n",
       "      <td>28.634</td>\n",
       "      <td>two-sided</td>\n",
       "      <td>0.022</td>\n",
       "      <td>0.064</td>\n",
       "      <td>sidak</td>\n",
       "      <td>2.91</td>\n",
       "      <td>-0.749</td>\n",
       "    </tr>\n",
       "    <tr>\n",
       "      <th>1</th>\n",
       "      <td>group</td>\n",
       "      <td>LoL</td>\n",
       "      <td>CS:GO</td>\n",
       "      <td>0.933</td>\n",
       "      <td>0.060</td>\n",
       "      <td>0.945</td>\n",
       "      <td>0.037</td>\n",
       "      <td>False</td>\n",
       "      <td>True</td>\n",
       "      <td>-0.741</td>\n",
       "      <td>38.000</td>\n",
       "      <td>two-sided</td>\n",
       "      <td>0.464</td>\n",
       "      <td>0.846</td>\n",
       "      <td>sidak</td>\n",
       "      <td>0.384</td>\n",
       "      <td>-0.230</td>\n",
       "    </tr>\n",
       "    <tr>\n",
       "      <th>2</th>\n",
       "      <td>group</td>\n",
       "      <td>Praca</td>\n",
       "      <td>CS:GO</td>\n",
       "      <td>0.970</td>\n",
       "      <td>0.031</td>\n",
       "      <td>0.945</td>\n",
       "      <td>0.037</td>\n",
       "      <td>False</td>\n",
       "      <td>True</td>\n",
       "      <td>2.329</td>\n",
       "      <td>36.489</td>\n",
       "      <td>two-sided</td>\n",
       "      <td>0.026</td>\n",
       "      <td>0.075</td>\n",
       "      <td>sidak</td>\n",
       "      <td>2.468</td>\n",
       "      <td>0.728</td>\n",
       "    </tr>\n",
       "  </tbody>\n",
       "</table>\n",
       "</div>"
      ],
      "text/plain": [
       "  Contrast      A      B  mean(A)  std(A)  mean(B)  std(B)  Paired  \\\n",
       "0    group    LoL  Praca    0.933   0.060    0.970   0.031   False   \n",
       "1    group    LoL  CS:GO    0.933   0.060    0.945   0.037   False   \n",
       "2    group  Praca  CS:GO    0.970   0.031    0.945   0.037   False   \n",
       "\n",
       "   Parametric      T     dof       Tail  p-unc  p-corr p-adjust   BF10  hedges  \n",
       "0        True -2.424  28.634  two-sided  0.022   0.064    sidak   2.91  -0.749  \n",
       "1        True -0.741  38.000  two-sided  0.464   0.846    sidak  0.384  -0.230  \n",
       "2        True  2.329  36.489  two-sided  0.026   0.075    sidak  2.468   0.728  "
      ]
     },
     "execution_count": 52,
     "metadata": {},
     "output_type": "execute_result"
    }
   ],
   "source": [
    "pg.pairwise_ttests(data=corr, dv='correct', between='group', parametric=True, marginal=True,\n",
    "            alpha=0.05, tail='two-sided', padjust='sidak', effsize='hedges', correction='auto',\n",
    "                nan_policy='listwise', return_desc=True, interaction=True, within_first=True).round(3)"
   ]
  },
  {
   "cell_type": "markdown",
   "metadata": {},
   "source": [
    "Żadne z porównań nie przeszło korekty na wielokrotne porównania Sidaka (kolumna p-corr), natomiast jeśli spojrzymy na wyniki bez korekty, to:\n",
    "\n",
    "- LoL i CS:GO nie różnią się poprawnością wykonania zadania\n",
    "- Niegrający wykonują zadanie poprawniej od reszty"
   ]
  },
  {
   "cell_type": "code",
   "execution_count": 57,
   "metadata": {},
   "outputs": [],
   "source": [
    "q2 = q[['id','group','pwyears','pwhrsdaily3mo','pwhrsweekly3mo']]"
   ]
  },
  {
   "cell_type": "markdown",
   "metadata": {},
   "source": [
    "#### Moderacja => zmienne kwestionariuszowe * grupa (gracze/niegracze) a czas reakcji"
   ]
  },
  {
   "cell_type": "code",
   "execution_count": 58,
   "metadata": {},
   "outputs": [],
   "source": [
    "mod1 = pd.merge(desc, q2)\n",
    "mod1['group'] = mod1['group'].map({\"LoL\":1,\"CS:GO\":1,\"Praca\":0})\n",
    "\n",
    "for v in [\"pwyears\",\"pwhrsdaily3mo\",\"pwhrsweekly3mo\"]:\n",
    "    mod1[f'group_{v}'] = mod1['group']*mod1[v]\n"
   ]
  },
  {
   "cell_type": "markdown",
   "metadata": {},
   "source": [
    "### Ile pełnych lat gra lub pracuje"
   ]
  },
  {
   "cell_type": "code",
   "execution_count": 60,
   "metadata": {},
   "outputs": [
    {
     "data": {
      "text/html": [
       "<div>\n",
       "<style scoped>\n",
       "    .dataframe tbody tr th:only-of-type {\n",
       "        vertical-align: middle;\n",
       "    }\n",
       "\n",
       "    .dataframe tbody tr th {\n",
       "        vertical-align: top;\n",
       "    }\n",
       "\n",
       "    .dataframe thead th {\n",
       "        text-align: right;\n",
       "    }\n",
       "</style>\n",
       "<table border=\"1\" class=\"dataframe\">\n",
       "  <thead>\n",
       "    <tr style=\"text-align: right;\">\n",
       "      <th></th>\n",
       "      <th>names</th>\n",
       "      <th>coef</th>\n",
       "      <th>se</th>\n",
       "      <th>T</th>\n",
       "      <th>pval</th>\n",
       "      <th>r2</th>\n",
       "      <th>adj_r2</th>\n",
       "      <th>CI[2.5%]</th>\n",
       "      <th>CI[97.5%]</th>\n",
       "    </tr>\n",
       "  </thead>\n",
       "  <tbody>\n",
       "    <tr>\n",
       "      <th>0</th>\n",
       "      <td>Intercept</td>\n",
       "      <td>867.773</td>\n",
       "      <td>124.408</td>\n",
       "      <td>6.975</td>\n",
       "      <td>0.000</td>\n",
       "      <td>0.12</td>\n",
       "      <td>0.072</td>\n",
       "      <td>618.453</td>\n",
       "      <td>1117.093</td>\n",
       "    </tr>\n",
       "    <tr>\n",
       "      <th>1</th>\n",
       "      <td>pwyears</td>\n",
       "      <td>-45.901</td>\n",
       "      <td>28.384</td>\n",
       "      <td>-1.617</td>\n",
       "      <td>0.112</td>\n",
       "      <td>0.12</td>\n",
       "      <td>0.072</td>\n",
       "      <td>-102.785</td>\n",
       "      <td>10.982</td>\n",
       "    </tr>\n",
       "    <tr>\n",
       "      <th>2</th>\n",
       "      <td>group</td>\n",
       "      <td>-413.160</td>\n",
       "      <td>154.193</td>\n",
       "      <td>-2.679</td>\n",
       "      <td>0.010</td>\n",
       "      <td>0.12</td>\n",
       "      <td>0.072</td>\n",
       "      <td>-722.170</td>\n",
       "      <td>-104.150</td>\n",
       "    </tr>\n",
       "    <tr>\n",
       "      <th>3</th>\n",
       "      <td>group_pwyears</td>\n",
       "      <td>74.470</td>\n",
       "      <td>32.222</td>\n",
       "      <td>2.311</td>\n",
       "      <td>0.025</td>\n",
       "      <td>0.12</td>\n",
       "      <td>0.072</td>\n",
       "      <td>9.895</td>\n",
       "      <td>139.045</td>\n",
       "    </tr>\n",
       "  </tbody>\n",
       "</table>\n",
       "</div>"
      ],
      "text/plain": [
       "           names     coef       se      T   pval    r2  adj_r2  CI[2.5%]  \\\n",
       "0      Intercept  867.773  124.408  6.975  0.000  0.12   0.072   618.453   \n",
       "1        pwyears  -45.901   28.384 -1.617  0.112  0.12   0.072  -102.785   \n",
       "2          group -413.160  154.193 -2.679  0.010  0.12   0.072  -722.170   \n",
       "3  group_pwyears   74.470   32.222  2.311  0.025  0.12   0.072     9.895   \n",
       "\n",
       "   CI[97.5%]  \n",
       "0   1117.093  \n",
       "1     10.982  \n",
       "2   -104.150  \n",
       "3    139.045  "
      ]
     },
     "execution_count": 60,
     "metadata": {},
     "output_type": "execute_result"
    }
   ],
   "source": [
    "pg.linear_regression(X = mod1[['pwyears','group','group_pwyears']], y= mod1['rt'],add_intercept=True).round(3)"
   ]
  },
  {
   "cell_type": "code",
   "execution_count": 65,
   "metadata": {},
   "outputs": [
    {
     "data": {
      "image/png": "[encoded data removed]",
      "text/plain": [
       "<Figure size 405.725x360 with 1 Axes>"
      ]
     },
     "metadata": {
      "needs_background": "light"
     },
     "output_type": "display_data"
    }
   ],
   "source": [
    "g = sns.lmplot(x='pwyears',y='rt',hue='group',data=mod1,)\n"
   ]
  },
  {
   "cell_type": "markdown",
   "metadata": {},
   "source": [
    "Nie ma efektu lat - nie przekłada się do na zmianę czasu reakcji\n",
    "Jest efekt grupy - grający wykonują zadanie szybciej od niegrających\n",
    "Jest efekt interakcji, czyli mamy moderację (row 3, ale też trzeba spojrzeć na row 1)\n",
    "- W rzędzie nr 1 mamy informację jak wygląda powiązanie pwyears z RT - wynik jest nieistotny, czyli de facto w grupie kontrolnej nie ma powiązania zmiennych ze sobą\n",
    "- W rzędzie nr 3 mamy informację o tym samym powiązaniu ale w grupie graczy - tutaj wynik jest istotny, a współczynnik (coef) jest na +, co oznacza, że im ktoś dłużej ktoś korzysta z komputera, tym dłużej rozwiązuje zadanie.\n"
   ]
  },
  {
   "cell_type": "markdown",
   "metadata": {},
   "source": [
    "### Średnia liczba godzin gry lub pracy dziennie w ostatnich 3 miesiącach"
   ]
  },
  {
   "cell_type": "code",
   "execution_count": 67,
   "metadata": {},
   "outputs": [
    {
     "data": {
      "text/html": [
       "<div>\n",
       "<style scoped>\n",
       "    .dataframe tbody tr th:only-of-type {\n",
       "        vertical-align: middle;\n",
       "    }\n",
       "\n",
       "    .dataframe tbody tr th {\n",
       "        vertical-align: top;\n",
       "    }\n",
       "\n",
       "    .dataframe thead th {\n",
       "        text-align: right;\n",
       "    }\n",
       "</style>\n",
       "<table border=\"1\" class=\"dataframe\">\n",
       "  <thead>\n",
       "    <tr style=\"text-align: right;\">\n",
       "      <th></th>\n",
       "      <th>names</th>\n",
       "      <th>coef</th>\n",
       "      <th>se</th>\n",
       "      <th>T</th>\n",
       "      <th>pval</th>\n",
       "      <th>r2</th>\n",
       "      <th>adj_r2</th>\n",
       "      <th>CI[2.5%]</th>\n",
       "      <th>CI[97.5%]</th>\n",
       "    </tr>\n",
       "  </thead>\n",
       "  <tbody>\n",
       "    <tr>\n",
       "      <th>0</th>\n",
       "      <td>Intercept</td>\n",
       "      <td>876.630</td>\n",
       "      <td>210.989</td>\n",
       "      <td>4.155</td>\n",
       "      <td>0.000</td>\n",
       "      <td>0.065</td>\n",
       "      <td>0.014</td>\n",
       "      <td>453.800</td>\n",
       "      <td>1299.461</td>\n",
       "    </tr>\n",
       "    <tr>\n",
       "      <th>1</th>\n",
       "      <td>pwhrsdaily3mo</td>\n",
       "      <td>-29.572</td>\n",
       "      <td>32.215</td>\n",
       "      <td>-0.918</td>\n",
       "      <td>0.363</td>\n",
       "      <td>0.065</td>\n",
       "      <td>0.014</td>\n",
       "      <td>-94.132</td>\n",
       "      <td>34.988</td>\n",
       "    </tr>\n",
       "    <tr>\n",
       "      <th>2</th>\n",
       "      <td>group</td>\n",
       "      <td>-353.581</td>\n",
       "      <td>224.510</td>\n",
       "      <td>-1.575</td>\n",
       "      <td>0.121</td>\n",
       "      <td>0.065</td>\n",
       "      <td>0.014</td>\n",
       "      <td>-803.509</td>\n",
       "      <td>96.346</td>\n",
       "    </tr>\n",
       "    <tr>\n",
       "      <th>3</th>\n",
       "      <td>group_pwhrsdaily3mo</td>\n",
       "      <td>44.319</td>\n",
       "      <td>34.125</td>\n",
       "      <td>1.299</td>\n",
       "      <td>0.199</td>\n",
       "      <td>0.065</td>\n",
       "      <td>0.014</td>\n",
       "      <td>-24.068</td>\n",
       "      <td>112.707</td>\n",
       "    </tr>\n",
       "  </tbody>\n",
       "</table>\n",
       "</div>"
      ],
      "text/plain": [
       "                 names     coef       se      T   pval     r2  adj_r2  \\\n",
       "0            Intercept  876.630  210.989  4.155  0.000  0.065   0.014   \n",
       "1        pwhrsdaily3mo  -29.572   32.215 -0.918  0.363  0.065   0.014   \n",
       "2                group -353.581  224.510 -1.575  0.121  0.065   0.014   \n",
       "3  group_pwhrsdaily3mo   44.319   34.125  1.299  0.199  0.065   0.014   \n",
       "\n",
       "   CI[2.5%]  CI[97.5%]  \n",
       "0   453.800   1299.461  \n",
       "1   -94.132     34.988  \n",
       "2  -803.509     96.346  \n",
       "3   -24.068    112.707  "
      ]
     },
     "execution_count": 67,
     "metadata": {},
     "output_type": "execute_result"
    }
   ],
   "source": [
    "pg.linear_regression(X = mod1[['pwhrsdaily3mo','group','group_pwhrsdaily3mo']], y= mod1['rt'],add_intercept=True).round(3)"
   ]
  },
  {
   "cell_type": "markdown",
   "metadata": {},
   "source": [
    "Średnia liczba godzin gry/pracy dziennie oraz grupa nie przekładają się na RT w zadaniu"
   ]
  },
  {
   "cell_type": "markdown",
   "metadata": {},
   "source": [
    "### Średnia liczba godzin gry lub pracy tygodniowo w ostatnich 3 miesiącach"
   ]
  },
  {
   "cell_type": "code",
   "execution_count": 69,
   "metadata": {},
   "outputs": [
    {
     "data": {
      "text/html": [
       "<div>\n",
       "<style scoped>\n",
       "    .dataframe tbody tr th:only-of-type {\n",
       "        vertical-align: middle;\n",
       "    }\n",
       "\n",
       "    .dataframe tbody tr th {\n",
       "        vertical-align: top;\n",
       "    }\n",
       "\n",
       "    .dataframe thead th {\n",
       "        text-align: right;\n",
       "    }\n",
       "</style>\n",
       "<table border=\"1\" class=\"dataframe\">\n",
       "  <thead>\n",
       "    <tr style=\"text-align: right;\">\n",
       "      <th></th>\n",
       "      <th>names</th>\n",
       "      <th>coef</th>\n",
       "      <th>se</th>\n",
       "      <th>T</th>\n",
       "      <th>pval</th>\n",
       "      <th>r2</th>\n",
       "      <th>adj_r2</th>\n",
       "      <th>CI[2.5%]</th>\n",
       "      <th>CI[97.5%]</th>\n",
       "    </tr>\n",
       "  </thead>\n",
       "  <tbody>\n",
       "    <tr>\n",
       "      <th>0</th>\n",
       "      <td>Intercept</td>\n",
       "      <td>776.644</td>\n",
       "      <td>196.691</td>\n",
       "      <td>3.949</td>\n",
       "      <td>0.000</td>\n",
       "      <td>0.065</td>\n",
       "      <td>0.014</td>\n",
       "      <td>382.466</td>\n",
       "      <td>1170.823</td>\n",
       "    </tr>\n",
       "    <tr>\n",
       "      <th>1</th>\n",
       "      <td>pwhrsweekly3mo</td>\n",
       "      <td>-2.646</td>\n",
       "      <td>5.798</td>\n",
       "      <td>-0.456</td>\n",
       "      <td>0.650</td>\n",
       "      <td>0.065</td>\n",
       "      <td>0.014</td>\n",
       "      <td>-14.266</td>\n",
       "      <td>8.974</td>\n",
       "    </tr>\n",
       "    <tr>\n",
       "      <th>2</th>\n",
       "      <td>group</td>\n",
       "      <td>-271.605</td>\n",
       "      <td>211.896</td>\n",
       "      <td>-1.282</td>\n",
       "      <td>0.205</td>\n",
       "      <td>0.065</td>\n",
       "      <td>0.014</td>\n",
       "      <td>-696.254</td>\n",
       "      <td>153.044</td>\n",
       "    </tr>\n",
       "    <tr>\n",
       "      <th>3</th>\n",
       "      <td>group_pwhrsweekly3mo</td>\n",
       "      <td>5.598</td>\n",
       "      <td>6.110</td>\n",
       "      <td>0.916</td>\n",
       "      <td>0.364</td>\n",
       "      <td>0.065</td>\n",
       "      <td>0.014</td>\n",
       "      <td>-6.646</td>\n",
       "      <td>17.843</td>\n",
       "    </tr>\n",
       "  </tbody>\n",
       "</table>\n",
       "</div>"
      ],
      "text/plain": [
       "                  names     coef       se      T   pval     r2  adj_r2  \\\n",
       "0             Intercept  776.644  196.691  3.949  0.000  0.065   0.014   \n",
       "1        pwhrsweekly3mo   -2.646    5.798 -0.456  0.650  0.065   0.014   \n",
       "2                 group -271.605  211.896 -1.282  0.205  0.065   0.014   \n",
       "3  group_pwhrsweekly3mo    5.598    6.110  0.916  0.364  0.065   0.014   \n",
       "\n",
       "   CI[2.5%]  CI[97.5%]  \n",
       "0   382.466   1170.823  \n",
       "1   -14.266      8.974  \n",
       "2  -696.254    153.044  \n",
       "3    -6.646     17.843  "
      ]
     },
     "execution_count": 69,
     "metadata": {},
     "output_type": "execute_result"
    }
   ],
   "source": [
    "pg.linear_regression(X = mod1[['pwhrsweekly3mo','group','group_pwhrsweekly3mo']], y= mod1['rt'],add_intercept=True).round(3)"
   ]
  },
  {
   "cell_type": "markdown",
   "metadata": {},
   "source": [
    "Średnia liczba godzin gry/pracy tygodniowo oraz grupa nie przekładają się na RT w zadaniu"
   ]
  },
  {
   "cell_type": "code",
   "execution_count": 70,
   "metadata": {},
   "outputs": [],
   "source": [
    "mod2 = d.groupby(['id','group']).agg(\n",
    "    correct = pd.NamedAgg(column='correct', aggfunc=np.mean)).reset_index()\n",
    "\n",
    "mod2 = pd.merge(mod2, q2)\n",
    "mod2['group'] = mod2['group'].map({\"LoL\":1,\"CS:GO\":1,\"Praca\":0})\n",
    "\n",
    "for v in [\"pwyears\",\"pwhrsdaily3mo\",\"pwhrsweekly3mo\"]:\n",
    "    mod2[f'group_{v}'] = mod2['group']*mod2[v]"
   ]
  },
  {
   "cell_type": "markdown",
   "metadata": {},
   "source": [
    "#### Moderacja => zmienne kwestionariuszowe * grupa (gracze/niegracze) a poprawność odpowiedzi"
   ]
  },
  {
   "cell_type": "markdown",
   "metadata": {},
   "source": [
    "### Ile pełnych lat gra lub pracuje"
   ]
  },
  {
   "cell_type": "code",
   "execution_count": 71,
   "metadata": {},
   "outputs": [
    {
     "data": {
      "text/html": [
       "<div>\n",
       "<style scoped>\n",
       "    .dataframe tbody tr th:only-of-type {\n",
       "        vertical-align: middle;\n",
       "    }\n",
       "\n",
       "    .dataframe tbody tr th {\n",
       "        vertical-align: top;\n",
       "    }\n",
       "\n",
       "    .dataframe thead th {\n",
       "        text-align: right;\n",
       "    }\n",
       "</style>\n",
       "<table border=\"1\" class=\"dataframe\">\n",
       "  <thead>\n",
       "    <tr style=\"text-align: right;\">\n",
       "      <th></th>\n",
       "      <th>names</th>\n",
       "      <th>coef</th>\n",
       "      <th>se</th>\n",
       "      <th>T</th>\n",
       "      <th>pval</th>\n",
       "      <th>r2</th>\n",
       "      <th>adj_r2</th>\n",
       "      <th>CI[2.5%]</th>\n",
       "      <th>CI[97.5%]</th>\n",
       "    </tr>\n",
       "  </thead>\n",
       "  <tbody>\n",
       "    <tr>\n",
       "      <th>0</th>\n",
       "      <td>Intercept</td>\n",
       "      <td>0.975</td>\n",
       "      <td>0.022</td>\n",
       "      <td>45.089</td>\n",
       "      <td>0.000</td>\n",
       "      <td>0.102</td>\n",
       "      <td>0.053</td>\n",
       "      <td>0.932</td>\n",
       "      <td>1.018</td>\n",
       "    </tr>\n",
       "    <tr>\n",
       "      <th>1</th>\n",
       "      <td>pwyears</td>\n",
       "      <td>-0.001</td>\n",
       "      <td>0.005</td>\n",
       "      <td>-0.252</td>\n",
       "      <td>0.802</td>\n",
       "      <td>0.102</td>\n",
       "      <td>0.053</td>\n",
       "      <td>-0.011</td>\n",
       "      <td>0.009</td>\n",
       "    </tr>\n",
       "    <tr>\n",
       "      <th>2</th>\n",
       "      <td>group</td>\n",
       "      <td>-0.031</td>\n",
       "      <td>0.027</td>\n",
       "      <td>-1.163</td>\n",
       "      <td>0.250</td>\n",
       "      <td>0.102</td>\n",
       "      <td>0.053</td>\n",
       "      <td>-0.085</td>\n",
       "      <td>0.023</td>\n",
       "    </tr>\n",
       "    <tr>\n",
       "      <th>3</th>\n",
       "      <td>group_pwyears</td>\n",
       "      <td>0.000</td>\n",
       "      <td>0.006</td>\n",
       "      <td>0.063</td>\n",
       "      <td>0.950</td>\n",
       "      <td>0.102</td>\n",
       "      <td>0.053</td>\n",
       "      <td>-0.011</td>\n",
       "      <td>0.012</td>\n",
       "    </tr>\n",
       "  </tbody>\n",
       "</table>\n",
       "</div>"
      ],
      "text/plain": [
       "           names   coef     se       T   pval     r2  adj_r2  CI[2.5%]  \\\n",
       "0      Intercept  0.975  0.022  45.089  0.000  0.102   0.053     0.932   \n",
       "1        pwyears -0.001  0.005  -0.252  0.802  0.102   0.053    -0.011   \n",
       "2          group -0.031  0.027  -1.163  0.250  0.102   0.053    -0.085   \n",
       "3  group_pwyears  0.000  0.006   0.063  0.950  0.102   0.053    -0.011   \n",
       "\n",
       "   CI[97.5%]  \n",
       "0      1.018  \n",
       "1      0.009  \n",
       "2      0.023  \n",
       "3      0.012  "
      ]
     },
     "execution_count": 71,
     "metadata": {},
     "output_type": "execute_result"
    }
   ],
   "source": [
    "pg.linear_regression(X = mod2[['pwyears','group','group_pwyears']], y= mod2['correct'],add_intercept=True).round(3)"
   ]
  },
  {
   "cell_type": "markdown",
   "metadata": {},
   "source": [
    "Nie ma żadnego efektu, ani lata, ani bycie graczem/niegraczem, ani też interakcja nie prekładają się na poprawność"
   ]
  },
  {
   "cell_type": "markdown",
   "metadata": {},
   "source": [
    "### Średnia liczba godzin gry lub pracy dziennie w ostatnich 3 miesiącach"
   ]
  },
  {
   "cell_type": "code",
   "execution_count": 72,
   "metadata": {},
   "outputs": [
    {
     "data": {
      "text/html": [
       "<div>\n",
       "<style scoped>\n",
       "    .dataframe tbody tr th:only-of-type {\n",
       "        vertical-align: middle;\n",
       "    }\n",
       "\n",
       "    .dataframe tbody tr th {\n",
       "        vertical-align: top;\n",
       "    }\n",
       "\n",
       "    .dataframe thead th {\n",
       "        text-align: right;\n",
       "    }\n",
       "</style>\n",
       "<table border=\"1\" class=\"dataframe\">\n",
       "  <thead>\n",
       "    <tr style=\"text-align: right;\">\n",
       "      <th></th>\n",
       "      <th>names</th>\n",
       "      <th>coef</th>\n",
       "      <th>se</th>\n",
       "      <th>T</th>\n",
       "      <th>pval</th>\n",
       "      <th>r2</th>\n",
       "      <th>adj_r2</th>\n",
       "      <th>CI[2.5%]</th>\n",
       "      <th>CI[97.5%]</th>\n",
       "    </tr>\n",
       "  </thead>\n",
       "  <tbody>\n",
       "    <tr>\n",
       "      <th>0</th>\n",
       "      <td>Intercept</td>\n",
       "      <td>0.981</td>\n",
       "      <td>0.034</td>\n",
       "      <td>28.536</td>\n",
       "      <td>0.000</td>\n",
       "      <td>0.162</td>\n",
       "      <td>0.116</td>\n",
       "      <td>0.912</td>\n",
       "      <td>1.050</td>\n",
       "    </tr>\n",
       "    <tr>\n",
       "      <th>1</th>\n",
       "      <td>pwhrsdaily3mo</td>\n",
       "      <td>-0.002</td>\n",
       "      <td>0.005</td>\n",
       "      <td>-0.333</td>\n",
       "      <td>0.740</td>\n",
       "      <td>0.162</td>\n",
       "      <td>0.116</td>\n",
       "      <td>-0.012</td>\n",
       "      <td>0.009</td>\n",
       "    </tr>\n",
       "    <tr>\n",
       "      <th>2</th>\n",
       "      <td>group</td>\n",
       "      <td>-0.021</td>\n",
       "      <td>0.037</td>\n",
       "      <td>-0.582</td>\n",
       "      <td>0.563</td>\n",
       "      <td>0.162</td>\n",
       "      <td>0.116</td>\n",
       "      <td>-0.095</td>\n",
       "      <td>0.052</td>\n",
       "    </tr>\n",
       "    <tr>\n",
       "      <th>3</th>\n",
       "      <td>group_pwhrsdaily3mo</td>\n",
       "      <td>-0.002</td>\n",
       "      <td>0.006</td>\n",
       "      <td>-0.344</td>\n",
       "      <td>0.732</td>\n",
       "      <td>0.162</td>\n",
       "      <td>0.116</td>\n",
       "      <td>-0.013</td>\n",
       "      <td>0.009</td>\n",
       "    </tr>\n",
       "  </tbody>\n",
       "</table>\n",
       "</div>"
      ],
      "text/plain": [
       "                 names   coef     se       T   pval     r2  adj_r2  CI[2.5%]  \\\n",
       "0            Intercept  0.981  0.034  28.536  0.000  0.162   0.116     0.912   \n",
       "1        pwhrsdaily3mo -0.002  0.005  -0.333  0.740  0.162   0.116    -0.012   \n",
       "2                group -0.021  0.037  -0.582  0.563  0.162   0.116    -0.095   \n",
       "3  group_pwhrsdaily3mo -0.002  0.006  -0.344  0.732  0.162   0.116    -0.013   \n",
       "\n",
       "   CI[97.5%]  \n",
       "0      1.050  \n",
       "1      0.009  \n",
       "2      0.052  \n",
       "3      0.009  "
      ]
     },
     "execution_count": 72,
     "metadata": {},
     "output_type": "execute_result"
    }
   ],
   "source": [
    "pg.linear_regression(X = mod2[['pwhrsdaily3mo','group','group_pwhrsdaily3mo']], y= mod2['correct'],add_intercept=True).round(3)"
   ]
  },
  {
   "cell_type": "markdown",
   "metadata": {},
   "source": [
    "Nie ma żadnego efektu, ani czas gry/pracy dziennie w ostatnich 3 mies, ani bycie graczem/niegraczem, ani też interakcja nie prekładają się na poprawność"
   ]
  },
  {
   "cell_type": "markdown",
   "metadata": {},
   "source": [
    "### Średnia liczba godzin gry lub pracy tygodniowo w ostatnich 3 miesiącach"
   ]
  },
  {
   "cell_type": "code",
   "execution_count": 73,
   "metadata": {},
   "outputs": [
    {
     "data": {
      "text/html": [
       "<div>\n",
       "<style scoped>\n",
       "    .dataframe tbody tr th:only-of-type {\n",
       "        vertical-align: middle;\n",
       "    }\n",
       "\n",
       "    .dataframe tbody tr th {\n",
       "        vertical-align: top;\n",
       "    }\n",
       "\n",
       "    .dataframe thead th {\n",
       "        text-align: right;\n",
       "    }\n",
       "</style>\n",
       "<table border=\"1\" class=\"dataframe\">\n",
       "  <thead>\n",
       "    <tr style=\"text-align: right;\">\n",
       "      <th></th>\n",
       "      <th>names</th>\n",
       "      <th>coef</th>\n",
       "      <th>se</th>\n",
       "      <th>T</th>\n",
       "      <th>pval</th>\n",
       "      <th>r2</th>\n",
       "      <th>adj_r2</th>\n",
       "      <th>CI[2.5%]</th>\n",
       "      <th>CI[97.5%]</th>\n",
       "    </tr>\n",
       "  </thead>\n",
       "  <tbody>\n",
       "    <tr>\n",
       "      <th>0</th>\n",
       "      <td>Intercept</td>\n",
       "      <td>0.991</td>\n",
       "      <td>0.032</td>\n",
       "      <td>30.968</td>\n",
       "      <td>0.000</td>\n",
       "      <td>0.164</td>\n",
       "      <td>0.118</td>\n",
       "      <td>0.927</td>\n",
       "      <td>1.055</td>\n",
       "    </tr>\n",
       "    <tr>\n",
       "      <th>1</th>\n",
       "      <td>pwhrsweekly3mo</td>\n",
       "      <td>-0.001</td>\n",
       "      <td>0.001</td>\n",
       "      <td>-0.697</td>\n",
       "      <td>0.489</td>\n",
       "      <td>0.164</td>\n",
       "      <td>0.118</td>\n",
       "      <td>-0.003</td>\n",
       "      <td>0.001</td>\n",
       "    </tr>\n",
       "    <tr>\n",
       "      <th>2</th>\n",
       "      <td>group</td>\n",
       "      <td>-0.031</td>\n",
       "      <td>0.034</td>\n",
       "      <td>-0.909</td>\n",
       "      <td>0.368</td>\n",
       "      <td>0.164</td>\n",
       "      <td>0.118</td>\n",
       "      <td>-0.100</td>\n",
       "      <td>0.038</td>\n",
       "    </tr>\n",
       "    <tr>\n",
       "      <th>3</th>\n",
       "      <td>group_pwhrsweekly3mo</td>\n",
       "      <td>0.000</td>\n",
       "      <td>0.001</td>\n",
       "      <td>0.049</td>\n",
       "      <td>0.961</td>\n",
       "      <td>0.164</td>\n",
       "      <td>0.118</td>\n",
       "      <td>-0.002</td>\n",
       "      <td>0.002</td>\n",
       "    </tr>\n",
       "  </tbody>\n",
       "</table>\n",
       "</div>"
      ],
      "text/plain": [
       "                  names   coef     se       T   pval     r2  adj_r2  CI[2.5%]  \\\n",
       "0             Intercept  0.991  0.032  30.968  0.000  0.164   0.118     0.927   \n",
       "1        pwhrsweekly3mo -0.001  0.001  -0.697  0.489  0.164   0.118    -0.003   \n",
       "2                 group -0.031  0.034  -0.909  0.368  0.164   0.118    -0.100   \n",
       "3  group_pwhrsweekly3mo  0.000  0.001   0.049  0.961  0.164   0.118    -0.002   \n",
       "\n",
       "   CI[97.5%]  \n",
       "0      1.055  \n",
       "1      0.001  \n",
       "2      0.038  \n",
       "3      0.002  "
      ]
     },
     "execution_count": 73,
     "metadata": {},
     "output_type": "execute_result"
    }
   ],
   "source": [
    "pg.linear_regression(X = mod2[['pwhrsweekly3mo','group','group_pwhrsweekly3mo']], y= mod2['correct'],add_intercept=True).round(3)"
   ]
  },
  {
   "cell_type": "markdown",
   "metadata": {},
   "source": [
    "Nie ma żadnego efektu, ani czas gry/pracy tygodniowo w ostatnich 3 mies, ani bycie graczem/niegraczem, ani też interakcja nie prekładają się na poprawność"
   ]
  }
 ],
 "metadata": {
  "kernelspec": {
   "display_name": "Python 3",
   "language": "python",
   "name": "python3"
  },
  "language_info": {
   "codemirror_mode": {
    "name": "ipython",
    "version": 3
   },
   "file_extension": ".py",
   "mimetype": "text/x-python",
   "name": "python",
   "nbconvert_exporter": "python",
   "pygments_lexer": "ipython3",
   "version": "3.7.5"
  }
 },
 "nbformat": 4,
 "nbformat_minor": 4
}
