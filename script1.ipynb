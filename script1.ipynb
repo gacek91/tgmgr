{
 "cells": [
  {
   "cell_type": "code",
   "execution_count": 414,
   "metadata": {},
   "outputs": [],
   "source": [
    "import pandas as pd, os, os.path as op, numpy as np\n",
    "import matplotlib.pyplot as plt\n",
    "import seaborn as sns\n",
    "sns.set()\n",
    "\n",
    "u = lambda x: list(set(x))\n",
    "\n",
    "#make necessary folders\n",
    "if not op.exists('plots'):\n",
    "    os.mkdir('plots')\n",
    "    \n",
    "    \n",
    "    \n",
    "#exgaussian (https://doi.org/10.3758/bf03200523)\n",
    "\n",
    "def exgaussian(data, asDict = True):\n",
    "    import numpy as np\n",
    "    from scipy.stats import moment\n",
    "    mean = np.nanmean(data)\n",
    "    var = np.nanvar(data,ddof=1)\n",
    "    tcm = np.sum((data[~np.isnan(data)] - np.nanmean(data))**3)/(len(data)-1)\n",
    "    \n",
    "    if tcm > 0:\n",
    "        tau = (tcm/2)**(1/3)\n",
    "    else:\n",
    "        tau = 0.8 * np.nanstd(data, ddof=1)\n",
    "    \n",
    "    mu = mean - tau\n",
    "    sigma = np.abs(var - tau**2)**(1/2)\n",
    "    \n",
    "    if asDict:\n",
    "        return {\"mu\":mu, \"sigma\":sigma, \"tau\":tau}\n",
    "    else:\n",
    "        return mu, sigma, tau\n",
    "    "
   ]
  },
  {
   "cell_type": "markdown",
   "metadata": {},
   "source": [
    "#### Rename column names into ones that are bearable and fix some vars' values"
   ]
  },
  {
   "cell_type": "code",
   "execution_count": 209,
   "metadata": {},
   "outputs": [],
   "source": [
    "q = pd.read_excel(op.join('data',\"quest.xlsx\"))\n",
    "c = pd.read_excel(op.join('data',\"cogn.xlsx\"))\n",
    "\n",
    "q = q.rename({'Participant Private ID':'id','Grupa':'group','Czy uzywa klawiatury i myszy zewnętrznej do gry lub pracy?':'keymouseuse',\n",
    "         'Wiek':'age','Płec':'sex','Stan cywilny':'marital','Najwyższy ukonczony stopień edukacji':'edu',\n",
    "          'Liczba ukończonych lat edukacji':'eduyears','Wielkość miasta zamieszkania':'size','Częstotliwość gry lub pracy':'pwfreq',\n",
    "         'Ile pełnych lat gra lub pracuje':'pwyears','Średnia liczba godzin gry lub pracy dziennie w ostatnich 3 miesiącach':'pwhrsdaily3mo',\n",
    "         'Średnia liczba godzin gry lub pracy tygodniowo w ostatnich 3 miesiącach':'pwhrsweeky3mo',\n",
    "          'Czy kiedykolwiek czerpał korzyści materialne z grania w gry komputerowe?':'gainsever',\n",
    "          'Czy obecnie utrzymuje się z grania w gry komputerowe?':'upkeepgamesnow',\n",
    "         'Czy planuje kiedyś utrzymywać się z grania w gry komputerowe?':'upkeepgamesfuture'}, axis = 1)\n",
    "\n",
    "c = c.rename({'Participant Private ID':'id','Zadanie':'task','Warunek':'condition',\"Timed Out\":'timeout'},axis=1)\n",
    "c.columns = [col.lower() for col in c.columns]\n",
    "\n",
    "q[\"group\"] = q[\"group\"].map({'Regularnie gram w League of Legends':\"LoL\",\n",
    "                'Regularnie gram w Counter Strike: Global Offensive':\"CS:GO\",\n",
    "                'Regularnie pracuję przy komputerze i nie gram w gry lub robię to rzadko (gry na konsole i smartfony nie są wliczane)':\"Niegrający\",\n",
    "                'Regularnie pracuję lub uczę się przy komputerze i nie gram w gry lub robię to rzadko (gry na konsole i smartfony nie są wliczane)':\"Niegrający\"})\n",
    "\n",
    "#drop columns with no variability\n",
    "q = q.drop([col for col in q.columns if q[col].nunique() == 1],axis=1)\n",
    "\n",
    "\n",
    "q['marital'] = q['marital'].map({'Kawaler/ panna':\"Kawaler\",'Żonaty/ zamężna':'Żonaty'})\n",
    "\n",
    "#add group info to cognitive df\n",
    "c[\"group\"] = c['id'].map({pid:q[q['id'] == pid]['group'].values[0] for pid in q['id'].unique()})\n",
    "\n",
    "#change nans into zeros, drop trials with more attempts than possible\n",
    "c['attempt'] = c['attempt'].replace({np.nan:0})\n",
    "c = c[c['attempt'] <= 5]\n",
    "\n",
    "c['trialtype'] = c['task'].apply(lambda x: x.split(\":\")[-1])\n",
    "c['task'] = c['task'].apply(lambda x: x.split(\":\")[0])\n",
    "c['task'] = c['task'].map({'Go/No-Go':'gonogo','Cued Task Switching':'cts','Posner Cueing Task':'posner','Visual Search Click on Location':'vsc'})"
   ]
  },
  {
   "cell_type": "markdown",
   "metadata": {},
   "source": [
    "#### Split cognitive data into separate dfs"
   ]
  },
  {
   "cell_type": "code",
   "execution_count": 211,
   "metadata": {},
   "outputs": [
    {
     "name": "stderr",
     "output_type": "stream",
     "text": [
      "/Library/Frameworks/Python.framework/Versions/3.7/lib/python3.7/site-packages/ipykernel_launcher.py:7: SettingWithCopyWarning: \n",
      "A value is trying to be set on a copy of a slice from a DataFrame.\n",
      "Try using .loc[row_indexer,col_indexer] = value instead\n",
      "\n",
      "See the caveats in the documentation: https://pandas.pydata.org/pandas-docs/stable/user_guide/indexing.html#returning-a-view-versus-a-copy\n",
      "  import sys\n"
     ]
    }
   ],
   "source": [
    "cDict = {}\n",
    "\n",
    "for task in u([t.split(\":\")[0] for t in c['task'].unique()]):\n",
    "    cDict[task] = c[c.task.str.contains(task)]\n",
    "    \n",
    "    if task == 'gonogo':\n",
    "        cDict[task]['trialtype'] = cDict[task]['trialtype'].apply(lambda x: x.split()[0])\n",
    "    else:\n",
    "        cDict[task] = cDict[task].drop(['trialtype'],axis=1)"
   ]
  },
  {
   "cell_type": "markdown",
   "metadata": {},
   "source": [
    "##### Go/No Go task preprocessing"
   ]
  },
  {
   "cell_type": "code",
   "execution_count": 417,
   "metadata": {},
   "outputs": [],
   "source": [
    "d = cDict['gonogo'].copy()\n",
    "d = d[d['rt'] >= 100]\n",
    "\n",
    "d.loc[d[\"attempt\"] == 0,'rt'] = np.nan\n",
    "d['correct_'] = d['correct'].map({1:'correct',0:'incorrect'})\n",
    "\n",
    "d['condcorr'] = d.apply(lambda x: f\"{x['condition']} - {x['correct_']}\", axis = 1)"
   ]
  },
  {
   "cell_type": "code",
   "execution_count": 418,
   "metadata": {},
   "outputs": [
    {
     "name": "stderr",
     "output_type": "stream",
     "text": [
      "/Library/Frameworks/Python.framework/Versions/3.7/lib/python3.7/site-packages/ipykernel_launcher.py:19: RuntimeWarning: Mean of empty slice\n",
      "/Library/Frameworks/Python.framework/Versions/3.7/lib/python3.7/site-packages/ipykernel_launcher.py:20: RuntimeWarning: Degrees of freedom <= 0 for slice.\n",
      "/Library/Frameworks/Python.framework/Versions/3.7/lib/python3.7/site-packages/ipykernel_launcher.py:21: RuntimeWarning: Mean of empty slice\n",
      "/Library/Frameworks/Python.framework/Versions/3.7/lib/python3.7/site-packages/numpy/lib/nanfunctions.py:1666: RuntimeWarning: Degrees of freedom <= 0 for slice.\n",
      "  keepdims=keepdims)\n",
      "/Library/Frameworks/Python.framework/Versions/3.7/lib/python3.7/site-packages/ipykernel_launcher.py:21: RuntimeWarning: invalid value encountered in double_scalars\n"
     ]
    }
   ],
   "source": [
    "#RT for each condition and correct/incorrect separately\n",
    "\n",
    "dDescRT = d.groupby(['id','group','condition','condcorr']).agg(\n",
    "    n = pd.NamedAgg(column='rt', aggfunc=np.size),\n",
    "    rt_mean = pd.NamedAgg(column='rt', aggfunc=np.mean),\n",
    "    rt_sd = pd.NamedAgg(column='rt', aggfunc=np.std),\n",
    "    rt_mu = pd.NamedAgg(column='rt', aggfunc=lambda x: exgaussian(x)['mu']),\n",
    "    rt_sigma = pd.NamedAgg(column='rt', aggfunc=lambda x: exgaussian(x)['sigma']),\n",
    "    rt_tau = pd.NamedAgg(column='rt', aggfunc=lambda x: exgaussian(x)['tau'])\n",
    ").reset_index()\n",
    "\n",
    "#drop conditions where no RT occurs\n",
    "dDescRT = dDescRT[~dDescRT['rt_mean'].isna()].fillna(0)\n",
    "\n",
    "#RT regaradless of condition\n",
    "dDescRT2 = d.groupby(['id','group']).agg(\n",
    "    n = pd.NamedAgg(column='rt', aggfunc=np.size),\n",
    "    rt_mean = pd.NamedAgg(column='rt', aggfunc=np.mean),\n",
    "    rt_sd = pd.NamedAgg(column='rt', aggfunc=np.std),\n",
    "    rt_mu = pd.NamedAgg(column='rt', aggfunc=lambda x: exgaussian(x)['mu']),\n",
    "    rt_sigma = pd.NamedAgg(column='rt', aggfunc=lambda x: exgaussian(x)['sigma']),\n",
    "    rt_tau = pd.NamedAgg(column='rt', aggfunc=lambda x: exgaussian(x)['tau'])\n",
    ").reset_index()\n"
   ]
  },
  {
   "cell_type": "code",
   "execution_count": 449,
   "metadata": {},
   "outputs": [
    {
     "data": {
      "text/html": [
       "<div>\n",
       "<style scoped>\n",
       "    .dataframe tbody tr th:only-of-type {\n",
       "        vertical-align: middle;\n",
       "    }\n",
       "\n",
       "    .dataframe tbody tr th {\n",
       "        vertical-align: top;\n",
       "    }\n",
       "\n",
       "    .dataframe thead th {\n",
       "        text-align: right;\n",
       "    }\n",
       "</style>\n",
       "<table border=\"1\" class=\"dataframe\">\n",
       "  <thead>\n",
       "    <tr style=\"text-align: right;\">\n",
       "      <th></th>\n",
       "      <th>id</th>\n",
       "      <th>group</th>\n",
       "      <th>condition</th>\n",
       "      <th>condcorr</th>\n",
       "      <th>n</th>\n",
       "      <th>rt_mean</th>\n",
       "      <th>rt_sd</th>\n",
       "      <th>rt_mu</th>\n",
       "      <th>rt_sigma</th>\n",
       "      <th>rt_tau</th>\n",
       "    </tr>\n",
       "  </thead>\n",
       "  <tbody>\n",
       "    <tr>\n",
       "      <th>0</th>\n",
       "      <td>2259446</td>\n",
       "      <td>LoL</td>\n",
       "      <td>Go</td>\n",
       "      <td>Go - correct</td>\n",
       "      <td>255.0</td>\n",
       "      <td>352.045196</td>\n",
       "      <td>56.922797</td>\n",
       "      <td>302.751698</td>\n",
       "      <td>28.466749</td>\n",
       "      <td>49.293499</td>\n",
       "    </tr>\n",
       "    <tr>\n",
       "      <th>3</th>\n",
       "      <td>2259446</td>\n",
       "      <td>LoL</td>\n",
       "      <td>No Go</td>\n",
       "      <td>No Go - incorrect</td>\n",
       "      <td>20.0</td>\n",
       "      <td>319.207250</td>\n",
       "      <td>33.718756</td>\n",
       "      <td>295.514443</td>\n",
       "      <td>23.991778</td>\n",
       "      <td>23.692807</td>\n",
       "    </tr>\n",
       "    <tr>\n",
       "      <th>4</th>\n",
       "      <td>2260116</td>\n",
       "      <td>LoL</td>\n",
       "      <td>Go</td>\n",
       "      <td>Go - correct</td>\n",
       "      <td>244.0</td>\n",
       "      <td>343.135840</td>\n",
       "      <td>63.876189</td>\n",
       "      <td>318.613671</td>\n",
       "      <td>58.981614</td>\n",
       "      <td>24.522170</td>\n",
       "    </tr>\n",
       "    <tr>\n",
       "      <th>7</th>\n",
       "      <td>2260116</td>\n",
       "      <td>LoL</td>\n",
       "      <td>No Go</td>\n",
       "      <td>No Go - incorrect</td>\n",
       "      <td>46.0</td>\n",
       "      <td>332.374891</td>\n",
       "      <td>55.410716</td>\n",
       "      <td>290.585694</td>\n",
       "      <td>36.386954</td>\n",
       "      <td>41.789197</td>\n",
       "    </tr>\n",
       "    <tr>\n",
       "      <th>8</th>\n",
       "      <td>2260229</td>\n",
       "      <td>LoL</td>\n",
       "      <td>Go</td>\n",
       "      <td>Go - correct</td>\n",
       "      <td>255.0</td>\n",
       "      <td>412.279000</td>\n",
       "      <td>60.254157</td>\n",
       "      <td>357.799323</td>\n",
       "      <td>25.739625</td>\n",
       "      <td>54.479677</td>\n",
       "    </tr>\n",
       "    <tr>\n",
       "      <th>...</th>\n",
       "      <td>...</td>\n",
       "      <td>...</td>\n",
       "      <td>...</td>\n",
       "      <td>...</td>\n",
       "      <td>...</td>\n",
       "      <td>...</td>\n",
       "      <td>...</td>\n",
       "      <td>...</td>\n",
       "      <td>...</td>\n",
       "      <td>...</td>\n",
       "    </tr>\n",
       "    <tr>\n",
       "      <th>197</th>\n",
       "      <td>2367440</td>\n",
       "      <td>CS:GO</td>\n",
       "      <td>No Go</td>\n",
       "      <td>No Go - incorrect</td>\n",
       "      <td>12.0</td>\n",
       "      <td>359.802500</td>\n",
       "      <td>35.199098</td>\n",
       "      <td>335.662847</td>\n",
       "      <td>25.617448</td>\n",
       "      <td>24.139653</td>\n",
       "    </tr>\n",
       "    <tr>\n",
       "      <th>198</th>\n",
       "      <td>2367631</td>\n",
       "      <td>CS:GO</td>\n",
       "      <td>Go</td>\n",
       "      <td>Go - correct</td>\n",
       "      <td>255.0</td>\n",
       "      <td>398.089824</td>\n",
       "      <td>43.530595</td>\n",
       "      <td>370.971194</td>\n",
       "      <td>34.051323</td>\n",
       "      <td>27.118630</td>\n",
       "    </tr>\n",
       "    <tr>\n",
       "      <th>201</th>\n",
       "      <td>2367631</td>\n",
       "      <td>CS:GO</td>\n",
       "      <td>No Go</td>\n",
       "      <td>No Go - incorrect</td>\n",
       "      <td>13.0</td>\n",
       "      <td>374.125769</td>\n",
       "      <td>33.341633</td>\n",
       "      <td>351.785441</td>\n",
       "      <td>24.750236</td>\n",
       "      <td>22.340328</td>\n",
       "    </tr>\n",
       "    <tr>\n",
       "      <th>202</th>\n",
       "      <td>2367802</td>\n",
       "      <td>Niegrający</td>\n",
       "      <td>Go</td>\n",
       "      <td>Go - correct</td>\n",
       "      <td>252.0</td>\n",
       "      <td>410.468254</td>\n",
       "      <td>55.979106</td>\n",
       "      <td>341.651702</td>\n",
       "      <td>40.025710</td>\n",
       "      <td>68.816552</td>\n",
       "    </tr>\n",
       "    <tr>\n",
       "      <th>205</th>\n",
       "      <td>2367802</td>\n",
       "      <td>Niegrający</td>\n",
       "      <td>No Go</td>\n",
       "      <td>No Go - incorrect</td>\n",
       "      <td>1.0</td>\n",
       "      <td>343.000000</td>\n",
       "      <td>0.000000</td>\n",
       "      <td>0.000000</td>\n",
       "      <td>0.000000</td>\n",
       "      <td>0.000000</td>\n",
       "    </tr>\n",
       "  </tbody>\n",
       "</table>\n",
       "<p>119 rows × 10 columns</p>\n",
       "</div>"
      ],
      "text/plain": [
       "          id       group condition           condcorr      n     rt_mean  \\\n",
       "0    2259446         LoL        Go       Go - correct  255.0  352.045196   \n",
       "3    2259446         LoL     No Go  No Go - incorrect   20.0  319.207250   \n",
       "4    2260116         LoL        Go       Go - correct  244.0  343.135840   \n",
       "7    2260116         LoL     No Go  No Go - incorrect   46.0  332.374891   \n",
       "8    2260229         LoL        Go       Go - correct  255.0  412.279000   \n",
       "..       ...         ...       ...                ...    ...         ...   \n",
       "197  2367440       CS:GO     No Go  No Go - incorrect   12.0  359.802500   \n",
       "198  2367631       CS:GO        Go       Go - correct  255.0  398.089824   \n",
       "201  2367631       CS:GO     No Go  No Go - incorrect   13.0  374.125769   \n",
       "202  2367802  Niegrający        Go       Go - correct  252.0  410.468254   \n",
       "205  2367802  Niegrający     No Go  No Go - incorrect    1.0  343.000000   \n",
       "\n",
       "         rt_sd       rt_mu   rt_sigma     rt_tau  \n",
       "0    56.922797  302.751698  28.466749  49.293499  \n",
       "3    33.718756  295.514443  23.991778  23.692807  \n",
       "4    63.876189  318.613671  58.981614  24.522170  \n",
       "7    55.410716  290.585694  36.386954  41.789197  \n",
       "8    60.254157  357.799323  25.739625  54.479677  \n",
       "..         ...         ...        ...        ...  \n",
       "197  35.199098  335.662847  25.617448  24.139653  \n",
       "198  43.530595  370.971194  34.051323  27.118630  \n",
       "201  33.341633  351.785441  24.750236  22.340328  \n",
       "202  55.979106  341.651702  40.025710  68.816552  \n",
       "205   0.000000    0.000000   0.000000   0.000000  \n",
       "\n",
       "[119 rows x 10 columns]"
      ]
     },
     "execution_count": 449,
     "metadata": {},
     "output_type": "execute_result"
    }
   ],
   "source": [
    "dDescRT"
   ]
  },
  {
   "cell_type": "code",
   "execution_count": 481,
   "metadata": {},
   "outputs": [],
   "source": [
    "dDescRTlong = pd.melt(dDescRT, id_vars = [\"id\",\"group\",\"condition\",\"condcorr\"],\n",
    "                      value_vars = [rt for rt in dDescRT.columns if \"rt\" in rt],var_name='parameter')\n",
    "dDescRTlong['parameter'] = dDescRTlong['parameter'].apply(lambda x: x.split(\"_\")[-1])\n",
    "dDescRTlong['correct'] = dDescRTlong[\"condcorr\"].apply(lambda x: x.split(\" - \")[-1])"
   ]
  },
  {
   "cell_type": "code",
   "execution_count": 471,
   "metadata": {},
   "outputs": [
    {
     "data": {
      "text/plain": [
       "<AxesSubplot:xlabel='group', ylabel='rt_mean'>"
      ]
     },
     "execution_count": 471,
     "metadata": {},
     "output_type": "execute_result"
    },
    {
     "data": {
      "image/png": "[encoded data removed]",
      "text/plain": [
       "<Figure size 432x288 with 1 Axes>"
      ]
     },
     "metadata": {},
     "output_type": "display_data"
    }
   ],
   "source": [
    "sns.barplot(data=dDescRT,x='group',y='rt_mean',hue='condcorr',order=['LoL',\"CS:GO\",\"Niegrający\"])"
   ]
  },
  {
   "cell_type": "code",
   "execution_count": 482,
   "metadata": {},
   "outputs": [
    {
     "data": {
      "text/html": [
       "<div>\n",
       "<style scoped>\n",
       "    .dataframe tbody tr th:only-of-type {\n",
       "        vertical-align: middle;\n",
       "    }\n",
       "\n",
       "    .dataframe tbody tr th {\n",
       "        vertical-align: top;\n",
       "    }\n",
       "\n",
       "    .dataframe thead th {\n",
       "        text-align: right;\n",
       "    }\n",
       "</style>\n",
       "<table border=\"1\" class=\"dataframe\">\n",
       "  <thead>\n",
       "    <tr style=\"text-align: right;\">\n",
       "      <th></th>\n",
       "      <th>id</th>\n",
       "      <th>group</th>\n",
       "      <th>condition</th>\n",
       "      <th>condcorr</th>\n",
       "      <th>parameter</th>\n",
       "      <th>value</th>\n",
       "      <th>correct</th>\n",
       "    </tr>\n",
       "  </thead>\n",
       "  <tbody>\n",
       "    <tr>\n",
       "      <th>0</th>\n",
       "      <td>2259446</td>\n",
       "      <td>LoL</td>\n",
       "      <td>Go</td>\n",
       "      <td>Go - correct</td>\n",
       "      <td>mean</td>\n",
       "      <td>352.045196</td>\n",
       "      <td>correct</td>\n",
       "    </tr>\n",
       "    <tr>\n",
       "      <th>1</th>\n",
       "      <td>2259446</td>\n",
       "      <td>LoL</td>\n",
       "      <td>No Go</td>\n",
       "      <td>No Go - incorrect</td>\n",
       "      <td>mean</td>\n",
       "      <td>319.207250</td>\n",
       "      <td>incorrect</td>\n",
       "    </tr>\n",
       "    <tr>\n",
       "      <th>2</th>\n",
       "      <td>2260116</td>\n",
       "      <td>LoL</td>\n",
       "      <td>Go</td>\n",
       "      <td>Go - correct</td>\n",
       "      <td>mean</td>\n",
       "      <td>343.135840</td>\n",
       "      <td>correct</td>\n",
       "    </tr>\n",
       "    <tr>\n",
       "      <th>3</th>\n",
       "      <td>2260116</td>\n",
       "      <td>LoL</td>\n",
       "      <td>No Go</td>\n",
       "      <td>No Go - incorrect</td>\n",
       "      <td>mean</td>\n",
       "      <td>332.374891</td>\n",
       "      <td>incorrect</td>\n",
       "    </tr>\n",
       "    <tr>\n",
       "      <th>4</th>\n",
       "      <td>2260229</td>\n",
       "      <td>LoL</td>\n",
       "      <td>Go</td>\n",
       "      <td>Go - correct</td>\n",
       "      <td>mean</td>\n",
       "      <td>412.279000</td>\n",
       "      <td>correct</td>\n",
       "    </tr>\n",
       "    <tr>\n",
       "      <th>...</th>\n",
       "      <td>...</td>\n",
       "      <td>...</td>\n",
       "      <td>...</td>\n",
       "      <td>...</td>\n",
       "      <td>...</td>\n",
       "      <td>...</td>\n",
       "      <td>...</td>\n",
       "    </tr>\n",
       "    <tr>\n",
       "      <th>590</th>\n",
       "      <td>2367440</td>\n",
       "      <td>CS:GO</td>\n",
       "      <td>No Go</td>\n",
       "      <td>No Go - incorrect</td>\n",
       "      <td>tau</td>\n",
       "      <td>24.139653</td>\n",
       "      <td>incorrect</td>\n",
       "    </tr>\n",
       "    <tr>\n",
       "      <th>591</th>\n",
       "      <td>2367631</td>\n",
       "      <td>CS:GO</td>\n",
       "      <td>Go</td>\n",
       "      <td>Go - correct</td>\n",
       "      <td>tau</td>\n",
       "      <td>27.118630</td>\n",
       "      <td>correct</td>\n",
       "    </tr>\n",
       "    <tr>\n",
       "      <th>592</th>\n",
       "      <td>2367631</td>\n",
       "      <td>CS:GO</td>\n",
       "      <td>No Go</td>\n",
       "      <td>No Go - incorrect</td>\n",
       "      <td>tau</td>\n",
       "      <td>22.340328</td>\n",
       "      <td>incorrect</td>\n",
       "    </tr>\n",
       "    <tr>\n",
       "      <th>593</th>\n",
       "      <td>2367802</td>\n",
       "      <td>Niegrający</td>\n",
       "      <td>Go</td>\n",
       "      <td>Go - correct</td>\n",
       "      <td>tau</td>\n",
       "      <td>68.816552</td>\n",
       "      <td>correct</td>\n",
       "    </tr>\n",
       "    <tr>\n",
       "      <th>594</th>\n",
       "      <td>2367802</td>\n",
       "      <td>Niegrający</td>\n",
       "      <td>No Go</td>\n",
       "      <td>No Go - incorrect</td>\n",
       "      <td>tau</td>\n",
       "      <td>0.000000</td>\n",
       "      <td>incorrect</td>\n",
       "    </tr>\n",
       "  </tbody>\n",
       "</table>\n",
       "<p>595 rows × 7 columns</p>\n",
       "</div>"
      ],
      "text/plain": [
       "          id       group condition           condcorr parameter       value  \\\n",
       "0    2259446         LoL        Go       Go - correct      mean  352.045196   \n",
       "1    2259446         LoL     No Go  No Go - incorrect      mean  319.207250   \n",
       "2    2260116         LoL        Go       Go - correct      mean  343.135840   \n",
       "3    2260116         LoL     No Go  No Go - incorrect      mean  332.374891   \n",
       "4    2260229         LoL        Go       Go - correct      mean  412.279000   \n",
       "..       ...         ...       ...                ...       ...         ...   \n",
       "590  2367440       CS:GO     No Go  No Go - incorrect       tau   24.139653   \n",
       "591  2367631       CS:GO        Go       Go - correct       tau   27.118630   \n",
       "592  2367631       CS:GO     No Go  No Go - incorrect       tau   22.340328   \n",
       "593  2367802  Niegrający        Go       Go - correct       tau   68.816552   \n",
       "594  2367802  Niegrający     No Go  No Go - incorrect       tau    0.000000   \n",
       "\n",
       "       correct  \n",
       "0      correct  \n",
       "1    incorrect  \n",
       "2      correct  \n",
       "3    incorrect  \n",
       "4      correct  \n",
       "..         ...  \n",
       "590  incorrect  \n",
       "591    correct  \n",
       "592  incorrect  \n",
       "593    correct  \n",
       "594  incorrect  \n",
       "\n",
       "[595 rows x 7 columns]"
      ]
     },
     "execution_count": 482,
     "metadata": {},
     "output_type": "execute_result"
    }
   ],
   "source": [
    "dDescRTlong"
   ]
  },
  {
   "cell_type": "code",
   "execution_count": 511,
   "metadata": {},
   "outputs": [
    {
     "data": {
      "image/png": "[encoded data removed]",
      "text/plain": [
       "<Figure size 460.8x1440 with 10 Axes>"
      ]
     },
     "metadata": {},
     "output_type": "display_data"
    }
   ],
   "source": [
    "g = sns.FacetGrid(dDescRTlong, col='condcorr', row=\"parameter\", height=4, aspect=.8,sharex=False, sharey='row')\n",
    "plt.subplots_adjust(top=0.9)\n",
    "g.map(sns.barplot,'group','value',palette = 'colorblind',alpha = .8,errcolor=\"black\",order=['LoL',\"CS:GO\",\"Niegrający\"])\n",
    "\n",
    "axes = g.axes.flatten()\n",
    "\n",
    "for i in range(len(axes)):\n",
    "    axes[i].set_title(\"\\n\".join([tpart.split(\" = \")[-1] for tpart in axes[i].get_title().split(\" | \")[::-1]]))\n"
   ]
  },
  {
   "cell_type": "code",
   "execution_count": 447,
   "metadata": {},
   "outputs": [],
   "source": [
    "dDescPerc = d.groupby(['id','group','condition','condcorr']).agg(n = pd.NamedAgg(column='rt', aggfunc=np.size)).reset_index()\n",
    "\n",
    "dDescPerc['correct'] = dDescPerc['n']/dDescPerc.groupby(['id','condition'])[\"n\"].transform(np.sum)\n",
    "dDescPerc = dDescPerc[dDescPerc['condcorr'].str.contains('- correct')]\n",
    "dDescPerc = dDescPerc.drop(['condcorr'],axis=1)"
   ]
  },
  {
   "cell_type": "code",
   "execution_count": 464,
   "metadata": {},
   "outputs": [
    {
     "data": {
      "text/html": [
       "<div>\n",
       "<style scoped>\n",
       "    .dataframe tbody tr th:only-of-type {\n",
       "        vertical-align: middle;\n",
       "    }\n",
       "\n",
       "    .dataframe tbody tr th {\n",
       "        vertical-align: top;\n",
       "    }\n",
       "\n",
       "    .dataframe thead th {\n",
       "        text-align: right;\n",
       "    }\n",
       "</style>\n",
       "<table border=\"1\" class=\"dataframe\">\n",
       "  <thead>\n",
       "    <tr style=\"text-align: right;\">\n",
       "      <th></th>\n",
       "      <th>id</th>\n",
       "      <th>group</th>\n",
       "      <th>condition</th>\n",
       "      <th>n</th>\n",
       "      <th>correct</th>\n",
       "    </tr>\n",
       "  </thead>\n",
       "  <tbody>\n",
       "    <tr>\n",
       "      <th>0</th>\n",
       "      <td>2259446</td>\n",
       "      <td>LoL</td>\n",
       "      <td>Go</td>\n",
       "      <td>255.0</td>\n",
       "      <td>0.996094</td>\n",
       "    </tr>\n",
       "    <tr>\n",
       "      <th>2</th>\n",
       "      <td>2259446</td>\n",
       "      <td>LoL</td>\n",
       "      <td>No Go</td>\n",
       "      <td>44.0</td>\n",
       "      <td>0.687500</td>\n",
       "    </tr>\n",
       "    <tr>\n",
       "      <th>4</th>\n",
       "      <td>2260116</td>\n",
       "      <td>LoL</td>\n",
       "      <td>Go</td>\n",
       "      <td>244.0</td>\n",
       "      <td>0.964427</td>\n",
       "    </tr>\n",
       "    <tr>\n",
       "      <th>6</th>\n",
       "      <td>2260116</td>\n",
       "      <td>LoL</td>\n",
       "      <td>No Go</td>\n",
       "      <td>18.0</td>\n",
       "      <td>0.281250</td>\n",
       "    </tr>\n",
       "    <tr>\n",
       "      <th>8</th>\n",
       "      <td>2260229</td>\n",
       "      <td>LoL</td>\n",
       "      <td>Go</td>\n",
       "      <td>255.0</td>\n",
       "      <td>1.000000</td>\n",
       "    </tr>\n",
       "    <tr>\n",
       "      <th>...</th>\n",
       "      <td>...</td>\n",
       "      <td>...</td>\n",
       "      <td>...</td>\n",
       "      <td>...</td>\n",
       "      <td>...</td>\n",
       "    </tr>\n",
       "    <tr>\n",
       "      <th>196</th>\n",
       "      <td>2367440</td>\n",
       "      <td>CS:GO</td>\n",
       "      <td>No Go</td>\n",
       "      <td>52.0</td>\n",
       "      <td>0.812500</td>\n",
       "    </tr>\n",
       "    <tr>\n",
       "      <th>198</th>\n",
       "      <td>2367631</td>\n",
       "      <td>CS:GO</td>\n",
       "      <td>Go</td>\n",
       "      <td>255.0</td>\n",
       "      <td>0.996094</td>\n",
       "    </tr>\n",
       "    <tr>\n",
       "      <th>200</th>\n",
       "      <td>2367631</td>\n",
       "      <td>CS:GO</td>\n",
       "      <td>No Go</td>\n",
       "      <td>51.0</td>\n",
       "      <td>0.796875</td>\n",
       "    </tr>\n",
       "    <tr>\n",
       "      <th>202</th>\n",
       "      <td>2367802</td>\n",
       "      <td>Niegrający</td>\n",
       "      <td>Go</td>\n",
       "      <td>252.0</td>\n",
       "      <td>0.984375</td>\n",
       "    </tr>\n",
       "    <tr>\n",
       "      <th>204</th>\n",
       "      <td>2367802</td>\n",
       "      <td>Niegrający</td>\n",
       "      <td>No Go</td>\n",
       "      <td>63.0</td>\n",
       "      <td>0.984375</td>\n",
       "    </tr>\n",
       "  </tbody>\n",
       "</table>\n",
       "<p>120 rows × 5 columns</p>\n",
       "</div>"
      ],
      "text/plain": [
       "          id       group condition      n   correct\n",
       "0    2259446         LoL        Go  255.0  0.996094\n",
       "2    2259446         LoL     No Go   44.0  0.687500\n",
       "4    2260116         LoL        Go  244.0  0.964427\n",
       "6    2260116         LoL     No Go   18.0  0.281250\n",
       "8    2260229         LoL        Go  255.0  1.000000\n",
       "..       ...         ...       ...    ...       ...\n",
       "196  2367440       CS:GO     No Go   52.0  0.812500\n",
       "198  2367631       CS:GO        Go  255.0  0.996094\n",
       "200  2367631       CS:GO     No Go   51.0  0.796875\n",
       "202  2367802  Niegrający        Go  252.0  0.984375\n",
       "204  2367802  Niegrający     No Go   63.0  0.984375\n",
       "\n",
       "[120 rows x 5 columns]"
      ]
     },
     "execution_count": 464,
     "metadata": {},
     "output_type": "execute_result"
    }
   ],
   "source": [
    "dDescPerc"
   ]
  },
  {
   "cell_type": "code",
   "execution_count": 469,
   "metadata": {},
   "outputs": [
    {
     "data": {
      "text/plain": [
       "<AxesSubplot:xlabel='group', ylabel='correct'>"
      ]
     },
     "execution_count": 469,
     "metadata": {},
     "output_type": "execute_result"
    },
    {
     "data": {
      "image/png": "[encoded data removed]",
      "text/plain": [
       "<Figure size 432x288 with 1 Axes>"
      ]
     },
     "metadata": {},
     "output_type": "display_data"
    }
   ],
   "source": [
    "sns.barplot(data=dDescPerc,x='group',y='correct',hue='condition',order=['LoL',\"CS:GO\",\"Niegrający\"])"
   ]
  },
  {
   "cell_type": "markdown",
   "metadata": {},
   "source": [
    "#### Ogólny procent poprawnych odp, niezależnie od warunku"
   ]
  },
  {
   "cell_type": "code",
   "execution_count": 439,
   "metadata": {},
   "outputs": [],
   "source": [
    "dDescPercGeneral = d.groupby(['id','group','correct_']).agg(n = pd.NamedAgg(column='rt', aggfunc=np.size)).reset_index()\n",
    "dDescPercGeneral['correct'] = dDescPercGeneral['n']/dDescPercGeneral.groupby(['id'])[\"n\"].transform(np.sum)\n",
    "dDescPercGeneral = dDescPercGeneral[dDescPercGeneral['correct_'] == 'correct']\n",
    "dDescPercGeneral = dDescPercGeneral.drop(['correct_'], axis=1)"
   ]
  },
  {
   "cell_type": "code",
   "execution_count": 441,
   "metadata": {},
   "outputs": [
    {
     "data": {
      "text/html": [
       "<div>\n",
       "<style scoped>\n",
       "    .dataframe tbody tr th:only-of-type {\n",
       "        vertical-align: middle;\n",
       "    }\n",
       "\n",
       "    .dataframe tbody tr th {\n",
       "        vertical-align: top;\n",
       "    }\n",
       "\n",
       "    .dataframe thead th {\n",
       "        text-align: right;\n",
       "    }\n",
       "</style>\n",
       "<table border=\"1\" class=\"dataframe\">\n",
       "  <thead>\n",
       "    <tr style=\"text-align: right;\">\n",
       "      <th></th>\n",
       "      <th>id</th>\n",
       "      <th>group</th>\n",
       "      <th>n</th>\n",
       "      <th>correct</th>\n",
       "    </tr>\n",
       "  </thead>\n",
       "  <tbody>\n",
       "    <tr>\n",
       "      <th>0</th>\n",
       "      <td>2259446</td>\n",
       "      <td>LoL</td>\n",
       "      <td>299.0</td>\n",
       "      <td>0.934375</td>\n",
       "    </tr>\n",
       "    <tr>\n",
       "      <th>2</th>\n",
       "      <td>2260116</td>\n",
       "      <td>LoL</td>\n",
       "      <td>262.0</td>\n",
       "      <td>0.826498</td>\n",
       "    </tr>\n",
       "    <tr>\n",
       "      <th>4</th>\n",
       "      <td>2260229</td>\n",
       "      <td>LoL</td>\n",
       "      <td>298.0</td>\n",
       "      <td>0.934169</td>\n",
       "    </tr>\n",
       "    <tr>\n",
       "      <th>6</th>\n",
       "      <td>2260318</td>\n",
       "      <td>LoL</td>\n",
       "      <td>300.0</td>\n",
       "      <td>0.937500</td>\n",
       "    </tr>\n",
       "    <tr>\n",
       "      <th>8</th>\n",
       "      <td>2260455</td>\n",
       "      <td>LoL</td>\n",
       "      <td>310.0</td>\n",
       "      <td>0.968750</td>\n",
       "    </tr>\n",
       "  </tbody>\n",
       "</table>\n",
       "</div>"
      ],
      "text/plain": [
       "        id group      n   correct\n",
       "0  2259446   LoL  299.0  0.934375\n",
       "2  2260116   LoL  262.0  0.826498\n",
       "4  2260229   LoL  298.0  0.934169\n",
       "6  2260318   LoL  300.0  0.937500\n",
       "8  2260455   LoL  310.0  0.968750"
      ]
     },
     "execution_count": 441,
     "metadata": {},
     "output_type": "execute_result"
    }
   ],
   "source": [
    "dDescPercGeneral.head()"
   ]
  },
  {
   "cell_type": "code",
   "execution_count": 466,
   "metadata": {},
   "outputs": [
    {
     "data": {
      "text/plain": [
       "<AxesSubplot:xlabel='group', ylabel='correct'>"
      ]
     },
     "execution_count": 466,
     "metadata": {},
     "output_type": "execute_result"
    },
    {
     "data": {
      "image/png": "[encoded data removed]",
      "text/plain": [
       "<Figure size 432x288 with 1 Axes>"
      ]
     },
     "metadata": {},
     "output_type": "display_data"
    }
   ],
   "source": [
    "sns.barplot(data=dDescPercGeneral,x='group',y='correct',order=['LoL',\"CS:GO\",\"Niegrający\"])"
   ]
  },
  {
   "cell_type": "markdown",
   "metadata": {},
   "source": [
    "#### % correct dla P vs dla R"
   ]
  },
  {
   "cell_type": "code",
   "execution_count": 458,
   "metadata": {},
   "outputs": [],
   "source": [
    "dpr = d.groupby(['id','group','correct_','trialtype']).agg(n = pd.NamedAgg(column='rt', aggfunc=np.size)).reset_index()\n",
    "\n",
    "dpr['correct'] = dpr['n']/dpr.groupby(['id','trialtype'])[\"n\"].transform(np.sum)\n",
    "dpr = dpr[dpr['correct_'] == 'correct']\n",
    "dpr = dpr.drop(['correct_'],axis=1)"
   ]
  },
  {
   "cell_type": "code",
   "execution_count": 459,
   "metadata": {},
   "outputs": [
    {
     "data": {
      "text/html": [
       "<div>\n",
       "<style scoped>\n",
       "    .dataframe tbody tr th:only-of-type {\n",
       "        vertical-align: middle;\n",
       "    }\n",
       "\n",
       "    .dataframe tbody tr th {\n",
       "        vertical-align: top;\n",
       "    }\n",
       "\n",
       "    .dataframe thead th {\n",
       "        text-align: right;\n",
       "    }\n",
       "</style>\n",
       "<table border=\"1\" class=\"dataframe\">\n",
       "  <thead>\n",
       "    <tr style=\"text-align: right;\">\n",
       "      <th></th>\n",
       "      <th>id</th>\n",
       "      <th>group</th>\n",
       "      <th>trialtype</th>\n",
       "      <th>n</th>\n",
       "      <th>correct</th>\n",
       "    </tr>\n",
       "  </thead>\n",
       "  <tbody>\n",
       "    <tr>\n",
       "      <th>0</th>\n",
       "      <td>2259446</td>\n",
       "      <td>LoL</td>\n",
       "      <td>P</td>\n",
       "      <td>149.0</td>\n",
       "      <td>0.931250</td>\n",
       "    </tr>\n",
       "    <tr>\n",
       "      <th>1</th>\n",
       "      <td>2259446</td>\n",
       "      <td>LoL</td>\n",
       "      <td>R</td>\n",
       "      <td>150.0</td>\n",
       "      <td>0.937500</td>\n",
       "    </tr>\n",
       "    <tr>\n",
       "      <th>4</th>\n",
       "      <td>2260116</td>\n",
       "      <td>LoL</td>\n",
       "      <td>P</td>\n",
       "      <td>135.0</td>\n",
       "      <td>0.849057</td>\n",
       "    </tr>\n",
       "    <tr>\n",
       "      <th>5</th>\n",
       "      <td>2260116</td>\n",
       "      <td>LoL</td>\n",
       "      <td>R</td>\n",
       "      <td>127.0</td>\n",
       "      <td>0.803797</td>\n",
       "    </tr>\n",
       "    <tr>\n",
       "      <th>8</th>\n",
       "      <td>2260229</td>\n",
       "      <td>LoL</td>\n",
       "      <td>P</td>\n",
       "      <td>148.0</td>\n",
       "      <td>0.930818</td>\n",
       "    </tr>\n",
       "    <tr>\n",
       "      <th>...</th>\n",
       "      <td>...</td>\n",
       "      <td>...</td>\n",
       "      <td>...</td>\n",
       "      <td>...</td>\n",
       "      <td>...</td>\n",
       "    </tr>\n",
       "    <tr>\n",
       "      <th>229</th>\n",
       "      <td>2367440</td>\n",
       "      <td>CS:GO</td>\n",
       "      <td>R</td>\n",
       "      <td>148.0</td>\n",
       "      <td>0.930818</td>\n",
       "    </tr>\n",
       "    <tr>\n",
       "      <th>232</th>\n",
       "      <td>2367631</td>\n",
       "      <td>CS:GO</td>\n",
       "      <td>P</td>\n",
       "      <td>153.0</td>\n",
       "      <td>0.956250</td>\n",
       "    </tr>\n",
       "    <tr>\n",
       "      <th>233</th>\n",
       "      <td>2367631</td>\n",
       "      <td>CS:GO</td>\n",
       "      <td>R</td>\n",
       "      <td>153.0</td>\n",
       "      <td>0.956250</td>\n",
       "    </tr>\n",
       "    <tr>\n",
       "      <th>236</th>\n",
       "      <td>2367802</td>\n",
       "      <td>Niegrający</td>\n",
       "      <td>P</td>\n",
       "      <td>159.0</td>\n",
       "      <td>0.993750</td>\n",
       "    </tr>\n",
       "    <tr>\n",
       "      <th>237</th>\n",
       "      <td>2367802</td>\n",
       "      <td>Niegrający</td>\n",
       "      <td>R</td>\n",
       "      <td>156.0</td>\n",
       "      <td>0.975000</td>\n",
       "    </tr>\n",
       "  </tbody>\n",
       "</table>\n",
       "<p>120 rows × 5 columns</p>\n",
       "</div>"
      ],
      "text/plain": [
       "          id       group trialtype      n   correct\n",
       "0    2259446         LoL         P  149.0  0.931250\n",
       "1    2259446         LoL         R  150.0  0.937500\n",
       "4    2260116         LoL         P  135.0  0.849057\n",
       "5    2260116         LoL         R  127.0  0.803797\n",
       "8    2260229         LoL         P  148.0  0.930818\n",
       "..       ...         ...       ...    ...       ...\n",
       "229  2367440       CS:GO         R  148.0  0.930818\n",
       "232  2367631       CS:GO         P  153.0  0.956250\n",
       "233  2367631       CS:GO         R  153.0  0.956250\n",
       "236  2367802  Niegrający         P  159.0  0.993750\n",
       "237  2367802  Niegrający         R  156.0  0.975000\n",
       "\n",
       "[120 rows x 5 columns]"
      ]
     },
     "execution_count": 459,
     "metadata": {},
     "output_type": "execute_result"
    }
   ],
   "source": [
    "dpr"
   ]
  },
  {
   "cell_type": "markdown",
   "metadata": {},
   "source": [
    "##### Raczej nie ma istotnych statystycznie różnic między warunkami P i R"
   ]
  },
  {
   "cell_type": "code",
   "execution_count": 467,
   "metadata": {},
   "outputs": [
    {
     "data": {
      "text/plain": [
       "<AxesSubplot:xlabel='group', ylabel='correct'>"
      ]
     },
     "execution_count": 467,
     "metadata": {},
     "output_type": "execute_result"
    },
    {
     "data": {
      "image/png": "[encoded data removed]",
      "text/plain": [
       "<Figure size 432x288 with 1 Axes>"
      ]
     },
     "metadata": {},
     "output_type": "display_data"
    }
   ],
   "source": [
    "sns.barplot(data=dpr,x='group',y='correct',hue='trialtype',order=['LoL',\"CS:GO\",\"Niegrający\"])"
   ]
  },
  {
   "cell_type": "code",
   "execution_count": 463,
   "metadata": {},
   "outputs": [
    {
     "data": {
      "text/plain": [
       "<AxesSubplot:xlabel='trialtype', ylabel='correct'>"
      ]
     },
     "execution_count": 463,
     "metadata": {},
     "output_type": "execute_result"
    },
    {
     "data": {
      "image/png": "[encoded data removed]",
      "text/plain": [
       "<Figure size 432x288 with 1 Axes>"
      ]
     },
     "metadata": {},
     "output_type": "display_data"
    }
   ],
   "source": [
    "sns.barplot(data=dpr,x='trialtype',y='correct')"
   ]
  },
  {
   "cell_type": "code",
   "execution_count": null,
   "metadata": {},
   "outputs": [],
   "source": []
  }
 ],
 "metadata": {
  "kernelspec": {
   "display_name": "Python 3",
   "language": "python",
   "name": "python3"
  },
  "language_info": {
   "codemirror_mode": {
    "name": "ipython",
    "version": 3
   },
   "file_extension": ".py",
   "mimetype": "text/x-python",
   "name": "python",
   "nbconvert_exporter": "python",
   "pygments_lexer": "ipython3",
   "version": "3.7.5"
  }
 },
 "nbformat": 4,
 "nbformat_minor": 4
}
