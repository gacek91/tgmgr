{
 "cells": [
  {
   "cell_type": "code",
   "execution_count": 168,
   "metadata": {},
   "outputs": [],
   "source": [
    "import pandas as pd, os, os.path as op, numpy as np\n",
    "import matplotlib.pyplot as plt\n",
    "import seaborn as sns\n",
    "import pingouin as pg\n",
    "sns.set()\n",
    "\n",
    "####### SET DPI HERE #######\n",
    "DPI = 600 ##################\n",
    "############################\n",
    "\n",
    "\n",
    "u = lambda x: list(set(x))\n",
    "\n",
    "#make necessary folders\n",
    "if not op.exists('plots'):\n",
    "    os.mkdir('plots')"
   ]
  },
  {
   "cell_type": "code",
   "execution_count": 76,
   "metadata": {},
   "outputs": [],
   "source": [
    "q = pd.read_excel(op.join('data',\"quest.xlsx\"))\n",
    "c = pd.read_excel(op.join('data',\"cogn.xlsx\"))\n",
    "\n",
    "q = q.rename({'Participant Private ID':'id','Grupa':'group','Czy uzywa klawiatury i myszy zewnętrznej do gry lub pracy?':'keymouseuse',\n",
    "         'Wiek':'age','Płec':'sex','Stan cywilny':'marital','Najwyższy ukonczony stopień edukacji':'edu',\n",
    "          'Liczba ukończonych lat edukacji':'eduyears','Wielkość miasta zamieszkania':'size','Częstotliwość gry lub pracy':'pwfreq',\n",
    "         'Ile pełnych lat gra lub pracuje':'pwyears','Średnia liczba godzin gry lub pracy dziennie w ostatnich 3 miesiącach':'pwhrsdaily3mo',\n",
    "         'Średnia liczba godzin gry lub pracy tygodniowo w ostatnich 3 miesiącach':'pwhrsweekly3mo',\n",
    "          'Czy kiedykolwiek czerpał korzyści materialne z grania w gry komputerowe?':'gainsever',\n",
    "          'Czy obecnie utrzymuje się z grania w gry komputerowe?':'upkeepgamesnow',\n",
    "         'Czy planuje kiedyś utrzymywać się z grania w gry komputerowe?':'upkeepgamesfuture'}, axis = 1)\n",
    "\n",
    "c = c.rename({'Participant Private ID':'id','Zadanie':'task','Warunek':'condition',\"Timed Out\":'timeout'},axis=1)\n",
    "c.columns = [col.lower() for col in c.columns]\n",
    "\n",
    "q[\"group\"] = q[\"group\"].map({'Regularnie gram w League of Legends':\"LoL\",\n",
    "                'Regularnie gram w Counter Strike: Global Offensive':\"CS:GO\",\n",
    "                'Regularnie pracuję przy komputerze i nie gram w gry lub robię to rzadko (gry na konsole i smartfony nie są wliczane)':\"Praca\",\n",
    "                'Regularnie pracuję lub uczę się przy komputerze i nie gram w gry lub robię to rzadko (gry na konsole i smartfony nie są wliczane)':\"Praca\"})\n",
    "\n",
    "#drop columns with no variability\n",
    "q = q.drop([col for col in q.columns if q[col].nunique() == 1],axis=1)\n",
    "\n",
    "\n",
    "q['marital'] = q['marital'].map({'Kawaler/ panna':\"Kawaler\",'Żonaty/ zamężna':'Żonaty'})\n",
    "\n",
    "#add group info to cognitive df\n",
    "c[\"group\"] = c['id'].map({pid:q[q['id'] == pid]['group'].values[0] for pid in q['id'].unique()})\n",
    "\n",
    "#change nans into zeros, drop trials with more attempts than possible\n",
    "c['attempt'] = c['attempt'].replace({np.nan:0})\n",
    "c = c[c['attempt'] <= 5]\n",
    "\n",
    "c['trialtype'] = c['task'].apply(lambda x: x.split(\":\")[-1])\n",
    "c['task'] = c['task'].apply(lambda x: x.split(\":\")[0])\n",
    "c['task'] = c['task'].map({'Go/No-Go':'gonogo','Cued Task Switching':'cts','Posner Cueing Task':'posner','Visual Search Click on Location':'vsc'})"
   ]
  },
  {
   "cell_type": "code",
   "execution_count": 3,
   "metadata": {},
   "outputs": [
    {
     "name": "stderr",
     "output_type": "stream",
     "text": [
      "/Library/Frameworks/Python.framework/Versions/3.7/lib/python3.7/site-packages/ipykernel_launcher.py:7: SettingWithCopyWarning: \n",
      "A value is trying to be set on a copy of a slice from a DataFrame.\n",
      "Try using .loc[row_indexer,col_indexer] = value instead\n",
      "\n",
      "See the caveats in the documentation: https://pandas.pydata.org/pandas-docs/stable/user_guide/indexing.html#returning-a-view-versus-a-copy\n",
      "  import sys\n"
     ]
    }
   ],
   "source": [
    "cDict = {}\n",
    "\n",
    "for task in u([t.split(\":\")[0] for t in c['task'].unique()]):\n",
    "    cDict[task] = c[c.task.str.contains(task)]\n",
    "    \n",
    "    if task == 'gonogo':\n",
    "        cDict[task]['trialtype'] = cDict[task]['trialtype'].apply(lambda x: x.split()[0])\n",
    "    else:\n",
    "        cDict[task] = cDict[task].drop(['trialtype'],axis=1)"
   ]
  },
  {
   "cell_type": "code",
   "execution_count": 19,
   "metadata": {},
   "outputs": [],
   "source": [
    "d = cDict['vsc'].copy()\n",
    "d = d[d['rt'] >= 200]\n",
    "d = d[d['rt'] <= 15000]\n",
    "d.loc[d[\"attempt\"] == 0,'rt'] = np.nan\n",
    "\n",
    "d_allY = d[(d['condition'] == d['condition'].unique()[0])]\n",
    "dY = d[(d['condition'] == d['condition'].unique()[1])]\n",
    "d_3Y = d[(d['condition'] == d['condition'].unique()[2])]"
   ]
  },
  {
   "cell_type": "markdown",
   "metadata": {},
   "source": [
    "#### Grupy a średni czas potrzebny na znalezienie Y"
   ]
  },
  {
   "cell_type": "code",
   "execution_count": 39,
   "metadata": {},
   "outputs": [],
   "source": [
    "desc1 = dY.groupby(['id','group']).agg(\n",
    "    rt = pd.NamedAgg(column='rt', aggfunc=np.mean)).reset_index()"
   ]
  },
  {
   "cell_type": "code",
   "execution_count": 41,
   "metadata": {},
   "outputs": [
    {
     "data": {
      "text/html": [
       "<div>\n",
       "<style scoped>\n",
       "    .dataframe tbody tr th:only-of-type {\n",
       "        vertical-align: middle;\n",
       "    }\n",
       "\n",
       "    .dataframe tbody tr th {\n",
       "        vertical-align: top;\n",
       "    }\n",
       "\n",
       "    .dataframe thead th {\n",
       "        text-align: right;\n",
       "    }\n",
       "</style>\n",
       "<table border=\"1\" class=\"dataframe\">\n",
       "  <thead>\n",
       "    <tr style=\"text-align: right;\">\n",
       "      <th></th>\n",
       "      <th>W</th>\n",
       "      <th>pval</th>\n",
       "      <th>equal_var</th>\n",
       "    </tr>\n",
       "  </thead>\n",
       "  <tbody>\n",
       "    <tr>\n",
       "      <th>levene</th>\n",
       "      <td>1.381785</td>\n",
       "      <td>0.259413</td>\n",
       "      <td>True</td>\n",
       "    </tr>\n",
       "  </tbody>\n",
       "</table>\n",
       "</div>"
      ],
      "text/plain": [
       "               W      pval  equal_var\n",
       "levene  1.381785  0.259413       True"
      ]
     },
     "execution_count": 41,
     "metadata": {},
     "output_type": "execute_result"
    }
   ],
   "source": [
    "pg.homoscedasticity(desc1, group='group', dv='rt')"
   ]
  },
  {
   "cell_type": "code",
   "execution_count": 42,
   "metadata": {},
   "outputs": [],
   "source": [
    "aov = pg.anova(dv='rt', between='group', data=desc1,\n",
    "               detailed=True).round(3)"
   ]
  },
  {
   "cell_type": "code",
   "execution_count": 43,
   "metadata": {},
   "outputs": [
    {
     "data": {
      "text/html": [
       "<div>\n",
       "<style scoped>\n",
       "    .dataframe tbody tr th:only-of-type {\n",
       "        vertical-align: middle;\n",
       "    }\n",
       "\n",
       "    .dataframe tbody tr th {\n",
       "        vertical-align: top;\n",
       "    }\n",
       "\n",
       "    .dataframe thead th {\n",
       "        text-align: right;\n",
       "    }\n",
       "</style>\n",
       "<table border=\"1\" class=\"dataframe\">\n",
       "  <thead>\n",
       "    <tr style=\"text-align: right;\">\n",
       "      <th></th>\n",
       "      <th>Source</th>\n",
       "      <th>SS</th>\n",
       "      <th>DF</th>\n",
       "      <th>MS</th>\n",
       "      <th>F</th>\n",
       "      <th>p-unc</th>\n",
       "      <th>np2</th>\n",
       "    </tr>\n",
       "  </thead>\n",
       "  <tbody>\n",
       "    <tr>\n",
       "      <th>0</th>\n",
       "      <td>group</td>\n",
       "      <td>5.547467e+07</td>\n",
       "      <td>2</td>\n",
       "      <td>2.773733e+07</td>\n",
       "      <td>8.764</td>\n",
       "      <td>0.0</td>\n",
       "      <td>0.235</td>\n",
       "    </tr>\n",
       "    <tr>\n",
       "      <th>1</th>\n",
       "      <td>Within</td>\n",
       "      <td>1.804014e+08</td>\n",
       "      <td>57</td>\n",
       "      <td>3.164936e+06</td>\n",
       "      <td>NaN</td>\n",
       "      <td>NaN</td>\n",
       "      <td>NaN</td>\n",
       "    </tr>\n",
       "  </tbody>\n",
       "</table>\n",
       "</div>"
      ],
      "text/plain": [
       "   Source            SS  DF            MS      F  p-unc    np2\n",
       "0   group  5.547467e+07   2  2.773733e+07  8.764    0.0  0.235\n",
       "1  Within  1.804014e+08  57  3.164936e+06    NaN    NaN    NaN"
      ]
     },
     "execution_count": 43,
     "metadata": {},
     "output_type": "execute_result"
    }
   ],
   "source": [
    "aov"
   ]
  },
  {
   "cell_type": "code",
   "execution_count": 44,
   "metadata": {},
   "outputs": [
    {
     "data": {
      "text/html": [
       "<div>\n",
       "<style scoped>\n",
       "    .dataframe tbody tr th:only-of-type {\n",
       "        vertical-align: middle;\n",
       "    }\n",
       "\n",
       "    .dataframe tbody tr th {\n",
       "        vertical-align: top;\n",
       "    }\n",
       "\n",
       "    .dataframe thead th {\n",
       "        text-align: right;\n",
       "    }\n",
       "</style>\n",
       "<table border=\"1\" class=\"dataframe\">\n",
       "  <thead>\n",
       "    <tr style=\"text-align: right;\">\n",
       "      <th></th>\n",
       "      <th>Contrast</th>\n",
       "      <th>A</th>\n",
       "      <th>B</th>\n",
       "      <th>mean(A)</th>\n",
       "      <th>std(A)</th>\n",
       "      <th>mean(B)</th>\n",
       "      <th>std(B)</th>\n",
       "      <th>Paired</th>\n",
       "      <th>Parametric</th>\n",
       "      <th>T</th>\n",
       "      <th>dof</th>\n",
       "      <th>Tail</th>\n",
       "      <th>p-unc</th>\n",
       "      <th>p-corr</th>\n",
       "      <th>p-adjust</th>\n",
       "      <th>BF10</th>\n",
       "      <th>hedges</th>\n",
       "    </tr>\n",
       "  </thead>\n",
       "  <tbody>\n",
       "    <tr>\n",
       "      <th>0</th>\n",
       "      <td>group</td>\n",
       "      <td>LoL</td>\n",
       "      <td>Praca</td>\n",
       "      <td>5026.859</td>\n",
       "      <td>1796.699</td>\n",
       "      <td>6868.116</td>\n",
       "      <td>2123.468</td>\n",
       "      <td>False</td>\n",
       "      <td>True</td>\n",
       "      <td>-2.960</td>\n",
       "      <td>38.0</td>\n",
       "      <td>two-sided</td>\n",
       "      <td>0.005</td>\n",
       "      <td>0.016</td>\n",
       "      <td>sidak</td>\n",
       "      <td>8.169</td>\n",
       "      <td>-0.918</td>\n",
       "    </tr>\n",
       "    <tr>\n",
       "      <th>1</th>\n",
       "      <td>group</td>\n",
       "      <td>LoL</td>\n",
       "      <td>CS:GO</td>\n",
       "      <td>5026.859</td>\n",
       "      <td>1796.699</td>\n",
       "      <td>4675.508</td>\n",
       "      <td>1325.733</td>\n",
       "      <td>False</td>\n",
       "      <td>True</td>\n",
       "      <td>0.704</td>\n",
       "      <td>38.0</td>\n",
       "      <td>two-sided</td>\n",
       "      <td>0.486</td>\n",
       "      <td>0.864</td>\n",
       "      <td>sidak</td>\n",
       "      <td>0.376</td>\n",
       "      <td>0.218</td>\n",
       "    </tr>\n",
       "    <tr>\n",
       "      <th>2</th>\n",
       "      <td>group</td>\n",
       "      <td>Praca</td>\n",
       "      <td>CS:GO</td>\n",
       "      <td>6868.116</td>\n",
       "      <td>2123.468</td>\n",
       "      <td>4675.508</td>\n",
       "      <td>1325.733</td>\n",
       "      <td>False</td>\n",
       "      <td>True</td>\n",
       "      <td>3.917</td>\n",
       "      <td>38.0</td>\n",
       "      <td>two-sided</td>\n",
       "      <td>0.000</td>\n",
       "      <td>0.001</td>\n",
       "      <td>sidak</td>\n",
       "      <td>72.739</td>\n",
       "      <td>1.214</td>\n",
       "    </tr>\n",
       "  </tbody>\n",
       "</table>\n",
       "</div>"
      ],
      "text/plain": [
       "  Contrast      A      B   mean(A)    std(A)   mean(B)    std(B)  Paired  \\\n",
       "0    group    LoL  Praca  5026.859  1796.699  6868.116  2123.468   False   \n",
       "1    group    LoL  CS:GO  5026.859  1796.699  4675.508  1325.733   False   \n",
       "2    group  Praca  CS:GO  6868.116  2123.468  4675.508  1325.733   False   \n",
       "\n",
       "   Parametric      T   dof       Tail  p-unc  p-corr p-adjust    BF10  hedges  \n",
       "0        True -2.960  38.0  two-sided  0.005   0.016    sidak   8.169  -0.918  \n",
       "1        True  0.704  38.0  two-sided  0.486   0.864    sidak   0.376   0.218  \n",
       "2        True  3.917  38.0  two-sided  0.000   0.001    sidak  72.739   1.214  "
      ]
     },
     "execution_count": 44,
     "metadata": {},
     "output_type": "execute_result"
    }
   ],
   "source": [
    "pg.pairwise_ttests(data=desc1, dv='rt', between='group', parametric=True, marginal=True,\n",
    "            alpha=0.05, tail='two-sided', padjust='sidak', effsize='hedges', correction='auto',\n",
    "                nan_policy='listwise', return_desc=True, interaction=True, within_first=True).round(3)"
   ]
  },
  {
   "cell_type": "code",
   "execution_count": 176,
   "metadata": {},
   "outputs": [
    {
     "data": {
      "image/png": "[encoded data removed]",
      "text/plain": [
       "<Figure size 432x288 with 1 Axes>"
      ]
     },
     "metadata": {},
     "output_type": "display_data"
    }
   ],
   "source": [
    "g = sns.barplot(data=desc1,x='group',y='rt',order=['LoL',\"CS:GO\",\"Praca\"])\n",
    "g.set(xlabel='Grupa',ylabel='Czas reakcji [ms]')\n",
    "g.set(yticks=range(0,15001,1000))\n",
    "#plt.show()\n",
    "\n",
    "plt.savefig(op.join('plots','vsc_group_rt.png'),dpi = DPI,bbox_inches = \"tight\")\n",
    "plt.show()\n",
    "plt.close()"
   ]
  },
  {
   "cell_type": "markdown",
   "metadata": {},
   "source": [
    "Wynik ANOVY okazał się istotny statystycznie, występują między grupami różnice w czasie potrzebnym na znalezienie jednego Y. Grupy LoL i CS:GO nie różnią się od siebie. Grupa pracująca ma dłuższe czasy od grup grających."
   ]
  },
  {
   "cell_type": "code",
   "execution_count": 56,
   "metadata": {},
   "outputs": [],
   "source": [
    "d_3y_stat1 = d_3Y.groupby(['attempt']).agg(\n",
    "    n = pd.NamedAgg(column='rt', aggfunc=np.size)).reset_index()\n",
    "d_3y_stat1['perc'] = d_3y_stat1['n']/60\n",
    "d_3y_stat1['attempt'] = d_3y_stat1['attempt'].astype(int)"
   ]
  },
  {
   "cell_type": "markdown",
   "metadata": {},
   "source": [
    "### % badanych który znalazł 1/2/3 Y"
   ]
  },
  {
   "cell_type": "code",
   "execution_count": 57,
   "metadata": {},
   "outputs": [
    {
     "data": {
      "text/html": [
       "<div>\n",
       "<style scoped>\n",
       "    .dataframe tbody tr th:only-of-type {\n",
       "        vertical-align: middle;\n",
       "    }\n",
       "\n",
       "    .dataframe tbody tr th {\n",
       "        vertical-align: top;\n",
       "    }\n",
       "\n",
       "    .dataframe thead th {\n",
       "        text-align: right;\n",
       "    }\n",
       "</style>\n",
       "<table border=\"1\" class=\"dataframe\">\n",
       "  <thead>\n",
       "    <tr style=\"text-align: right;\">\n",
       "      <th></th>\n",
       "      <th>attempt</th>\n",
       "      <th>n</th>\n",
       "      <th>perc</th>\n",
       "    </tr>\n",
       "  </thead>\n",
       "  <tbody>\n",
       "    <tr>\n",
       "      <th>0</th>\n",
       "      <td>1</td>\n",
       "      <td>60.0</td>\n",
       "      <td>1.000000</td>\n",
       "    </tr>\n",
       "    <tr>\n",
       "      <th>1</th>\n",
       "      <td>2</td>\n",
       "      <td>59.0</td>\n",
       "      <td>0.983333</td>\n",
       "    </tr>\n",
       "    <tr>\n",
       "      <th>2</th>\n",
       "      <td>3</td>\n",
       "      <td>47.0</td>\n",
       "      <td>0.783333</td>\n",
       "    </tr>\n",
       "  </tbody>\n",
       "</table>\n",
       "</div>"
      ],
      "text/plain": [
       "   attempt     n      perc\n",
       "0        1  60.0  1.000000\n",
       "1        2  59.0  0.983333\n",
       "2        3  47.0  0.783333"
      ]
     },
     "execution_count": 57,
     "metadata": {},
     "output_type": "execute_result"
    }
   ],
   "source": [
    "d_3y_stat1"
   ]
  },
  {
   "cell_type": "code",
   "execution_count": 177,
   "metadata": {},
   "outputs": [
    {
     "data": {
      "image/png": "[encoded data removed]",
      "text/plain": [
       "<Figure size 432x288 with 1 Axes>"
      ]
     },
     "metadata": {},
     "output_type": "display_data"
    }
   ],
   "source": [
    "g = sns.barplot(data=d_3y_stat1,x='attempt',y='perc')\n",
    "g.set(xlabel='Ilość znalezionych elementów',ylabel='Odsetek badanych')\n",
    "g.set(yticks=np.arange(0,1.1,.1))\n",
    "plt.savefig(op.join('plots','vsc_nElements_percentage.png'),dpi = DPI,bbox_inches = \"tight\")\n",
    "plt.show()\n",
    "plt.close()"
   ]
  },
  {
   "cell_type": "code",
   "execution_count": 179,
   "metadata": {},
   "outputs": [],
   "source": [
    "d_3y_stat2 = d_3Y.groupby(['attempt','group']).agg(\n",
    "    n = pd.NamedAgg(column='rt', aggfunc=np.size)).reset_index()\n",
    "d_3y_stat2['perc'] = d_3y_stat2['n']/20\n",
    "d_3y_stat2['attempt'] = d_3y_stat2['attempt'].astype(int)"
   ]
  },
  {
   "cell_type": "code",
   "execution_count": 180,
   "metadata": {},
   "outputs": [
    {
     "data": {
      "text/html": [
       "<div>\n",
       "<style scoped>\n",
       "    .dataframe tbody tr th:only-of-type {\n",
       "        vertical-align: middle;\n",
       "    }\n",
       "\n",
       "    .dataframe tbody tr th {\n",
       "        vertical-align: top;\n",
       "    }\n",
       "\n",
       "    .dataframe thead th {\n",
       "        text-align: right;\n",
       "    }\n",
       "</style>\n",
       "<table border=\"1\" class=\"dataframe\">\n",
       "  <thead>\n",
       "    <tr style=\"text-align: right;\">\n",
       "      <th></th>\n",
       "      <th>attempt</th>\n",
       "      <th>group</th>\n",
       "      <th>n</th>\n",
       "      <th>perc</th>\n",
       "    </tr>\n",
       "  </thead>\n",
       "  <tbody>\n",
       "    <tr>\n",
       "      <th>0</th>\n",
       "      <td>1</td>\n",
       "      <td>CS:GO</td>\n",
       "      <td>20.0</td>\n",
       "      <td>1.00</td>\n",
       "    </tr>\n",
       "    <tr>\n",
       "      <th>1</th>\n",
       "      <td>1</td>\n",
       "      <td>LoL</td>\n",
       "      <td>20.0</td>\n",
       "      <td>1.00</td>\n",
       "    </tr>\n",
       "    <tr>\n",
       "      <th>2</th>\n",
       "      <td>1</td>\n",
       "      <td>Praca</td>\n",
       "      <td>20.0</td>\n",
       "      <td>1.00</td>\n",
       "    </tr>\n",
       "    <tr>\n",
       "      <th>3</th>\n",
       "      <td>2</td>\n",
       "      <td>CS:GO</td>\n",
       "      <td>20.0</td>\n",
       "      <td>1.00</td>\n",
       "    </tr>\n",
       "    <tr>\n",
       "      <th>4</th>\n",
       "      <td>2</td>\n",
       "      <td>LoL</td>\n",
       "      <td>19.0</td>\n",
       "      <td>0.95</td>\n",
       "    </tr>\n",
       "    <tr>\n",
       "      <th>5</th>\n",
       "      <td>2</td>\n",
       "      <td>Praca</td>\n",
       "      <td>20.0</td>\n",
       "      <td>1.00</td>\n",
       "    </tr>\n",
       "    <tr>\n",
       "      <th>6</th>\n",
       "      <td>3</td>\n",
       "      <td>CS:GO</td>\n",
       "      <td>17.0</td>\n",
       "      <td>0.85</td>\n",
       "    </tr>\n",
       "    <tr>\n",
       "      <th>7</th>\n",
       "      <td>3</td>\n",
       "      <td>LoL</td>\n",
       "      <td>16.0</td>\n",
       "      <td>0.80</td>\n",
       "    </tr>\n",
       "    <tr>\n",
       "      <th>8</th>\n",
       "      <td>3</td>\n",
       "      <td>Praca</td>\n",
       "      <td>14.0</td>\n",
       "      <td>0.70</td>\n",
       "    </tr>\n",
       "  </tbody>\n",
       "</table>\n",
       "</div>"
      ],
      "text/plain": [
       "   attempt  group     n  perc\n",
       "0        1  CS:GO  20.0  1.00\n",
       "1        1    LoL  20.0  1.00\n",
       "2        1  Praca  20.0  1.00\n",
       "3        2  CS:GO  20.0  1.00\n",
       "4        2    LoL  19.0  0.95\n",
       "5        2  Praca  20.0  1.00\n",
       "6        3  CS:GO  17.0  0.85\n",
       "7        3    LoL  16.0  0.80\n",
       "8        3  Praca  14.0  0.70"
      ]
     },
     "execution_count": 180,
     "metadata": {},
     "output_type": "execute_result"
    }
   ],
   "source": [
    "d_3y_stat2"
   ]
  },
  {
   "cell_type": "code",
   "execution_count": 181,
   "metadata": {},
   "outputs": [
    {
     "data": {
      "image/png": "[encoded data removed]",
      "text/plain": [
       "<Figure size 432x288 with 1 Axes>"
      ]
     },
     "metadata": {},
     "output_type": "display_data"
    }
   ],
   "source": [
    "g = sns.barplot(data=d_3y_stat2,x='attempt',y='perc',hue='group',\n",
    "               hue_order = ['LoL',\"CS:GO\",\"Praca\"])\n",
    "g.set(yticks=np.arange(0,1.1,.1))\n",
    "g.set(xlabel='Ilość znalezionych elementów',ylabel='Odsetek badanych')\n",
    "plt.legend(bbox_to_anchor=(1.05, 1), loc=2, borderaxespad=0.)\n",
    "plt.savefig(op.join('plots','vsc_nElements_group_percentage.png'),dpi = DPI,bbox_inches = \"tight\")\n",
    "plt.show()\n",
    "plt.close()"
   ]
  },
  {
   "cell_type": "markdown",
   "metadata": {},
   "source": [
    "### ANOVA - porównanie grup - ile Y udało się znaleźć"
   ]
  },
  {
   "cell_type": "code",
   "execution_count": 67,
   "metadata": {},
   "outputs": [],
   "source": [
    "yfound = d_allY.groupby(['id','group']).agg(\n",
    "    n = pd.NamedAgg(column='attempt', aggfunc=np.max)).reset_index()"
   ]
  },
  {
   "cell_type": "code",
   "execution_count": 69,
   "metadata": {},
   "outputs": [
    {
     "data": {
      "text/html": [
       "<div>\n",
       "<style scoped>\n",
       "    .dataframe tbody tr th:only-of-type {\n",
       "        vertical-align: middle;\n",
       "    }\n",
       "\n",
       "    .dataframe tbody tr th {\n",
       "        vertical-align: top;\n",
       "    }\n",
       "\n",
       "    .dataframe thead th {\n",
       "        text-align: right;\n",
       "    }\n",
       "</style>\n",
       "<table border=\"1\" class=\"dataframe\">\n",
       "  <thead>\n",
       "    <tr style=\"text-align: right;\">\n",
       "      <th></th>\n",
       "      <th>W</th>\n",
       "      <th>pval</th>\n",
       "      <th>equal_var</th>\n",
       "    </tr>\n",
       "  </thead>\n",
       "  <tbody>\n",
       "    <tr>\n",
       "      <th>levene</th>\n",
       "      <td>1.654066</td>\n",
       "      <td>0.200318</td>\n",
       "      <td>True</td>\n",
       "    </tr>\n",
       "  </tbody>\n",
       "</table>\n",
       "</div>"
      ],
      "text/plain": [
       "               W      pval  equal_var\n",
       "levene  1.654066  0.200318       True"
      ]
     },
     "execution_count": 69,
     "metadata": {},
     "output_type": "execute_result"
    }
   ],
   "source": [
    "pg.homoscedasticity(yfound, group='group', dv='n')"
   ]
  },
  {
   "cell_type": "code",
   "execution_count": 70,
   "metadata": {},
   "outputs": [],
   "source": [
    "aov = pg.anova(dv='n', between='group', data=yfound,\n",
    "               detailed=True).round(3)"
   ]
  },
  {
   "cell_type": "code",
   "execution_count": 71,
   "metadata": {},
   "outputs": [
    {
     "data": {
      "text/html": [
       "<div>\n",
       "<style scoped>\n",
       "    .dataframe tbody tr th:only-of-type {\n",
       "        vertical-align: middle;\n",
       "    }\n",
       "\n",
       "    .dataframe tbody tr th {\n",
       "        vertical-align: top;\n",
       "    }\n",
       "\n",
       "    .dataframe thead th {\n",
       "        text-align: right;\n",
       "    }\n",
       "</style>\n",
       "<table border=\"1\" class=\"dataframe\">\n",
       "  <thead>\n",
       "    <tr style=\"text-align: right;\">\n",
       "      <th></th>\n",
       "      <th>Source</th>\n",
       "      <th>SS</th>\n",
       "      <th>DF</th>\n",
       "      <th>MS</th>\n",
       "      <th>F</th>\n",
       "      <th>p-unc</th>\n",
       "      <th>np2</th>\n",
       "    </tr>\n",
       "  </thead>\n",
       "  <tbody>\n",
       "    <tr>\n",
       "      <th>0</th>\n",
       "      <td>group</td>\n",
       "      <td>3.733</td>\n",
       "      <td>2</td>\n",
       "      <td>1.867</td>\n",
       "      <td>2.013</td>\n",
       "      <td>0.143</td>\n",
       "      <td>0.066</td>\n",
       "    </tr>\n",
       "    <tr>\n",
       "      <th>1</th>\n",
       "      <td>Within</td>\n",
       "      <td>52.850</td>\n",
       "      <td>57</td>\n",
       "      <td>0.927</td>\n",
       "      <td>NaN</td>\n",
       "      <td>NaN</td>\n",
       "      <td>NaN</td>\n",
       "    </tr>\n",
       "  </tbody>\n",
       "</table>\n",
       "</div>"
      ],
      "text/plain": [
       "   Source      SS  DF     MS      F  p-unc    np2\n",
       "0   group   3.733   2  1.867  2.013  0.143  0.066\n",
       "1  Within  52.850  57  0.927    NaN    NaN    NaN"
      ]
     },
     "execution_count": 71,
     "metadata": {},
     "output_type": "execute_result"
    }
   ],
   "source": [
    "aov"
   ]
  },
  {
   "cell_type": "markdown",
   "metadata": {},
   "source": [
    "Wynik wyszedł nieistotny statystycznie, nie występują różnice między grupami w zakresie liczby znalezionych elementów"
   ]
  },
  {
   "cell_type": "code",
   "execution_count": 178,
   "metadata": {},
   "outputs": [
    {
     "data": {
      "image/png": "[encoded data removed]",
      "text/plain": [
       "<Figure size 432x288 with 1 Axes>"
      ]
     },
     "metadata": {},
     "output_type": "display_data"
    }
   ],
   "source": [
    "g = sns.barplot(data=yfound,x='group',y='n',order=['LoL',\"CS:GO\",\"Praca\"])\n",
    "g.set(xlabel='Grupa',ylabel='Średnia ilość znalezionych elementów')\n",
    "g.set(yticks=np.arange(0,5.1,1))\n",
    "plt.savefig(op.join('plots','vsc_group_nElements.png'),dpi = DPI,bbox_inches = \"tight\")\n",
    "plt.show()\n",
    "plt.close()"
   ]
  },
  {
   "cell_type": "markdown",
   "metadata": {},
   "source": [
    "#### Moderacja => zmienne kwestionariuszowe * grupa (gracze/niegracze) a czas reakcji (znajdź 1Y)"
   ]
  },
  {
   "cell_type": "code",
   "execution_count": 77,
   "metadata": {},
   "outputs": [],
   "source": [
    "q2 = q[['id','group','pwyears','pwhrsdaily3mo','pwhrsweekly3mo']]"
   ]
  },
  {
   "cell_type": "code",
   "execution_count": 88,
   "metadata": {},
   "outputs": [],
   "source": [
    "mod1 = pd.merge(desc1, q2)\n",
    "\n",
    "mod1['group'] = mod1['group'].map({\"LoL\":1,\"CS:GO\":1,\"Praca\":0})\n",
    "\n",
    "for v in [\"pwyears\",\"pwhrsdaily3mo\",\"pwhrsweekly3mo\"]:\n",
    "    mod1[f'group_{v}'] = mod1['group']*mod1[v]\n"
   ]
  },
  {
   "cell_type": "markdown",
   "metadata": {},
   "source": [
    "### Ile pełnych lat gra lub pracuje"
   ]
  },
  {
   "cell_type": "code",
   "execution_count": 116,
   "metadata": {},
   "outputs": [
    {
     "data": {
      "text/html": [
       "<div>\n",
       "<style scoped>\n",
       "    .dataframe tbody tr th:only-of-type {\n",
       "        vertical-align: middle;\n",
       "    }\n",
       "\n",
       "    .dataframe tbody tr th {\n",
       "        vertical-align: top;\n",
       "    }\n",
       "\n",
       "    .dataframe thead th {\n",
       "        text-align: right;\n",
       "    }\n",
       "</style>\n",
       "<table border=\"1\" class=\"dataframe\">\n",
       "  <thead>\n",
       "    <tr style=\"text-align: right;\">\n",
       "      <th></th>\n",
       "      <th>names</th>\n",
       "      <th>coef</th>\n",
       "      <th>se</th>\n",
       "      <th>T</th>\n",
       "      <th>pval</th>\n",
       "      <th>r2</th>\n",
       "      <th>adj_r2</th>\n",
       "      <th>CI[2.5%]</th>\n",
       "      <th>CI[97.5%]</th>\n",
       "    </tr>\n",
       "  </thead>\n",
       "  <tbody>\n",
       "    <tr>\n",
       "      <th>0</th>\n",
       "      <td>Intercept</td>\n",
       "      <td>8214.836</td>\n",
       "      <td>798.108</td>\n",
       "      <td>10.293</td>\n",
       "      <td>0.000</td>\n",
       "      <td>0.281</td>\n",
       "      <td>0.242</td>\n",
       "      <td>6616.033</td>\n",
       "      <td>9813.638</td>\n",
       "    </tr>\n",
       "    <tr>\n",
       "      <th>1</th>\n",
       "      <td>pwyears</td>\n",
       "      <td>-359.125</td>\n",
       "      <td>185.808</td>\n",
       "      <td>-1.933</td>\n",
       "      <td>0.058</td>\n",
       "      <td>0.281</td>\n",
       "      <td>0.242</td>\n",
       "      <td>-731.343</td>\n",
       "      <td>13.092</td>\n",
       "    </tr>\n",
       "    <tr>\n",
       "      <th>2</th>\n",
       "      <td>group</td>\n",
       "      <td>-3617.510</td>\n",
       "      <td>1003.059</td>\n",
       "      <td>-3.606</td>\n",
       "      <td>0.001</td>\n",
       "      <td>0.281</td>\n",
       "      <td>0.242</td>\n",
       "      <td>-5626.878</td>\n",
       "      <td>-1608.141</td>\n",
       "    </tr>\n",
       "    <tr>\n",
       "      <th>3</th>\n",
       "      <td>group_pwyears</td>\n",
       "      <td>406.798</td>\n",
       "      <td>211.830</td>\n",
       "      <td>1.920</td>\n",
       "      <td>0.060</td>\n",
       "      <td>0.281</td>\n",
       "      <td>0.242</td>\n",
       "      <td>-17.549</td>\n",
       "      <td>831.145</td>\n",
       "    </tr>\n",
       "  </tbody>\n",
       "</table>\n",
       "</div>"
      ],
      "text/plain": [
       "           names      coef        se       T   pval     r2  adj_r2  CI[2.5%]  \\\n",
       "0      Intercept  8214.836   798.108  10.293  0.000  0.281   0.242  6616.033   \n",
       "1        pwyears  -359.125   185.808  -1.933  0.058  0.281   0.242  -731.343   \n",
       "2          group -3617.510  1003.059  -3.606  0.001  0.281   0.242 -5626.878   \n",
       "3  group_pwyears   406.798   211.830   1.920  0.060  0.281   0.242   -17.549   \n",
       "\n",
       "   CI[97.5%]  \n",
       "0   9813.638  \n",
       "1     13.092  \n",
       "2  -1608.141  \n",
       "3    831.145  "
      ]
     },
     "execution_count": 116,
     "metadata": {},
     "output_type": "execute_result"
    }
   ],
   "source": [
    "pg.linear_regression(X = mod1[['pwyears','group','group_pwyears']], y= mod1['rt'],add_intercept=True).round(3)"
   ]
  },
  {
   "cell_type": "markdown",
   "metadata": {},
   "source": [
    "Jest tylko efekt grupy, ale to już wiemy z ANOVY powyżej"
   ]
  },
  {
   "cell_type": "markdown",
   "metadata": {},
   "source": [
    "### Średnia liczba godzin gry lub pracy dziennie w ostatnich 3 miesiącach"
   ]
  },
  {
   "cell_type": "code",
   "execution_count": 118,
   "metadata": {},
   "outputs": [
    {
     "data": {
      "text/html": [
       "<div>\n",
       "<style scoped>\n",
       "    .dataframe tbody tr th:only-of-type {\n",
       "        vertical-align: middle;\n",
       "    }\n",
       "\n",
       "    .dataframe tbody tr th {\n",
       "        vertical-align: top;\n",
       "    }\n",
       "\n",
       "    .dataframe thead th {\n",
       "        text-align: right;\n",
       "    }\n",
       "</style>\n",
       "<table border=\"1\" class=\"dataframe\">\n",
       "  <thead>\n",
       "    <tr style=\"text-align: right;\">\n",
       "      <th></th>\n",
       "      <th>names</th>\n",
       "      <th>coef</th>\n",
       "      <th>se</th>\n",
       "      <th>T</th>\n",
       "      <th>pval</th>\n",
       "      <th>r2</th>\n",
       "      <th>adj_r2</th>\n",
       "      <th>CI[2.5%]</th>\n",
       "      <th>CI[97.5%]</th>\n",
       "    </tr>\n",
       "  </thead>\n",
       "  <tbody>\n",
       "    <tr>\n",
       "      <th>0</th>\n",
       "      <td>Intercept</td>\n",
       "      <td>7377.503</td>\n",
       "      <td>1367.278</td>\n",
       "      <td>5.396</td>\n",
       "      <td>0.000</td>\n",
       "      <td>0.248</td>\n",
       "      <td>0.207</td>\n",
       "      <td>4638.516</td>\n",
       "      <td>10116.490</td>\n",
       "    </tr>\n",
       "    <tr>\n",
       "      <th>1</th>\n",
       "      <td>pwhrsdaily3mo</td>\n",
       "      <td>-82.159</td>\n",
       "      <td>210.976</td>\n",
       "      <td>-0.389</td>\n",
       "      <td>0.698</td>\n",
       "      <td>0.248</td>\n",
       "      <td>0.207</td>\n",
       "      <td>-504.794</td>\n",
       "      <td>340.476</td>\n",
       "    </tr>\n",
       "    <tr>\n",
       "      <th>2</th>\n",
       "      <td>group</td>\n",
       "      <td>-2982.131</td>\n",
       "      <td>1458.594</td>\n",
       "      <td>-2.045</td>\n",
       "      <td>0.046</td>\n",
       "      <td>0.248</td>\n",
       "      <td>0.207</td>\n",
       "      <td>-5904.046</td>\n",
       "      <td>-60.216</td>\n",
       "    </tr>\n",
       "    <tr>\n",
       "      <th>3</th>\n",
       "      <td>group_pwhrsdaily3mo</td>\n",
       "      <td>162.478</td>\n",
       "      <td>223.748</td>\n",
       "      <td>0.726</td>\n",
       "      <td>0.471</td>\n",
       "      <td>0.248</td>\n",
       "      <td>0.207</td>\n",
       "      <td>-285.742</td>\n",
       "      <td>610.699</td>\n",
       "    </tr>\n",
       "  </tbody>\n",
       "</table>\n",
       "</div>"
      ],
      "text/plain": [
       "                 names      coef        se      T   pval     r2  adj_r2  \\\n",
       "0            Intercept  7377.503  1367.278  5.396  0.000  0.248   0.207   \n",
       "1        pwhrsdaily3mo   -82.159   210.976 -0.389  0.698  0.248   0.207   \n",
       "2                group -2982.131  1458.594 -2.045  0.046  0.248   0.207   \n",
       "3  group_pwhrsdaily3mo   162.478   223.748  0.726  0.471  0.248   0.207   \n",
       "\n",
       "   CI[2.5%]  CI[97.5%]  \n",
       "0  4638.516  10116.490  \n",
       "1  -504.794    340.476  \n",
       "2 -5904.046    -60.216  \n",
       "3  -285.742    610.699  "
      ]
     },
     "execution_count": 118,
     "metadata": {},
     "output_type": "execute_result"
    }
   ],
   "source": [
    "pg.linear_regression(X = mod1[['pwhrsdaily3mo','group','group_pwhrsdaily3mo']], y= mod1['rt'],add_intercept=True).round(3)"
   ]
  },
  {
   "cell_type": "markdown",
   "metadata": {},
   "source": [
    "Jest tylko efekt grupy, ale to już wiemy z ANOVY powyżej"
   ]
  },
  {
   "cell_type": "markdown",
   "metadata": {},
   "source": [
    "### Średnia liczba godzin gry lub pracy tygodniowo w ostatnich 3 miesiącach"
   ]
  },
  {
   "cell_type": "code",
   "execution_count": 119,
   "metadata": {},
   "outputs": [
    {
     "data": {
      "text/html": [
       "<div>\n",
       "<style scoped>\n",
       "    .dataframe tbody tr th:only-of-type {\n",
       "        vertical-align: middle;\n",
       "    }\n",
       "\n",
       "    .dataframe tbody tr th {\n",
       "        vertical-align: top;\n",
       "    }\n",
       "\n",
       "    .dataframe thead th {\n",
       "        text-align: right;\n",
       "    }\n",
       "</style>\n",
       "<table border=\"1\" class=\"dataframe\">\n",
       "  <thead>\n",
       "    <tr style=\"text-align: right;\">\n",
       "      <th></th>\n",
       "      <th>names</th>\n",
       "      <th>coef</th>\n",
       "      <th>se</th>\n",
       "      <th>T</th>\n",
       "      <th>pval</th>\n",
       "      <th>r2</th>\n",
       "      <th>adj_r2</th>\n",
       "      <th>CI[2.5%]</th>\n",
       "      <th>CI[97.5%]</th>\n",
       "    </tr>\n",
       "  </thead>\n",
       "  <tbody>\n",
       "    <tr>\n",
       "      <th>0</th>\n",
       "      <td>Intercept</td>\n",
       "      <td>7915.340</td>\n",
       "      <td>1289.297</td>\n",
       "      <td>6.139</td>\n",
       "      <td>0.000</td>\n",
       "      <td>0.262</td>\n",
       "      <td>0.223</td>\n",
       "      <td>5332.567</td>\n",
       "      <td>10498.113</td>\n",
       "    </tr>\n",
       "    <tr>\n",
       "      <th>1</th>\n",
       "      <td>pwhrsweekly3mo</td>\n",
       "      <td>-32.322</td>\n",
       "      <td>37.888</td>\n",
       "      <td>-0.853</td>\n",
       "      <td>0.397</td>\n",
       "      <td>0.262</td>\n",
       "      <td>0.223</td>\n",
       "      <td>-108.220</td>\n",
       "      <td>43.577</td>\n",
       "    </tr>\n",
       "    <tr>\n",
       "      <th>2</th>\n",
       "      <td>group</td>\n",
       "      <td>-3635.093</td>\n",
       "      <td>1388.965</td>\n",
       "      <td>-2.617</td>\n",
       "      <td>0.011</td>\n",
       "      <td>0.262</td>\n",
       "      <td>0.223</td>\n",
       "      <td>-6417.523</td>\n",
       "      <td>-852.662</td>\n",
       "    </tr>\n",
       "    <tr>\n",
       "      <th>3</th>\n",
       "      <td>group_pwhrsweekly3mo</td>\n",
       "      <td>48.895</td>\n",
       "      <td>39.937</td>\n",
       "      <td>1.224</td>\n",
       "      <td>0.226</td>\n",
       "      <td>0.262</td>\n",
       "      <td>0.223</td>\n",
       "      <td>-31.108</td>\n",
       "      <td>128.897</td>\n",
       "    </tr>\n",
       "  </tbody>\n",
       "</table>\n",
       "</div>"
      ],
      "text/plain": [
       "                  names      coef        se      T   pval     r2  adj_r2  \\\n",
       "0             Intercept  7915.340  1289.297  6.139  0.000  0.262   0.223   \n",
       "1        pwhrsweekly3mo   -32.322    37.888 -0.853  0.397  0.262   0.223   \n",
       "2                 group -3635.093  1388.965 -2.617  0.011  0.262   0.223   \n",
       "3  group_pwhrsweekly3mo    48.895    39.937  1.224  0.226  0.262   0.223   \n",
       "\n",
       "   CI[2.5%]  CI[97.5%]  \n",
       "0  5332.567  10498.113  \n",
       "1  -108.220     43.577  \n",
       "2 -6417.523   -852.662  \n",
       "3   -31.108    128.897  "
      ]
     },
     "execution_count": 119,
     "metadata": {},
     "output_type": "execute_result"
    }
   ],
   "source": [
    "pg.linear_regression(X = mod1[['pwhrsweekly3mo','group','group_pwhrsweekly3mo']], y= mod1['rt'],add_intercept=True).round(3)"
   ]
  },
  {
   "cell_type": "markdown",
   "metadata": {},
   "source": [
    "Jest tylko efekt grupy, ale to już wiemy z ANOVY powyżej"
   ]
  },
  {
   "cell_type": "code",
   "execution_count": 121,
   "metadata": {},
   "outputs": [],
   "source": [
    "mod2 = pd.merge(yfound, q2)\n",
    "mod2['group'] = mod2['group'].map({\"LoL\":1,\"CS:GO\":1,\"Praca\":0})\n",
    "\n",
    "for v in [\"pwyears\",\"pwhrsdaily3mo\",\"pwhrsweekly3mo\"]:\n",
    "    mod2[f'group_{v}'] = mod2['group']*mod2[v]"
   ]
  },
  {
   "cell_type": "markdown",
   "metadata": {},
   "source": [
    "#### Moderacja => zmienne kwestionariuszowe * grupa (gracze/niegracze) a liczba znalezionych elementów"
   ]
  },
  {
   "cell_type": "markdown",
   "metadata": {},
   "source": [
    "### Ile pełnych lat gra lub pracuje"
   ]
  },
  {
   "cell_type": "code",
   "execution_count": 123,
   "metadata": {},
   "outputs": [
    {
     "data": {
      "text/html": [
       "<div>\n",
       "<style scoped>\n",
       "    .dataframe tbody tr th:only-of-type {\n",
       "        vertical-align: middle;\n",
       "    }\n",
       "\n",
       "    .dataframe tbody tr th {\n",
       "        vertical-align: top;\n",
       "    }\n",
       "\n",
       "    .dataframe thead th {\n",
       "        text-align: right;\n",
       "    }\n",
       "</style>\n",
       "<table border=\"1\" class=\"dataframe\">\n",
       "  <thead>\n",
       "    <tr style=\"text-align: right;\">\n",
       "      <th></th>\n",
       "      <th>names</th>\n",
       "      <th>coef</th>\n",
       "      <th>se</th>\n",
       "      <th>T</th>\n",
       "      <th>pval</th>\n",
       "      <th>r2</th>\n",
       "      <th>adj_r2</th>\n",
       "      <th>CI[2.5%]</th>\n",
       "      <th>CI[97.5%]</th>\n",
       "    </tr>\n",
       "  </thead>\n",
       "  <tbody>\n",
       "    <tr>\n",
       "      <th>0</th>\n",
       "      <td>Intercept</td>\n",
       "      <td>3.291</td>\n",
       "      <td>0.442</td>\n",
       "      <td>7.453</td>\n",
       "      <td>0.000</td>\n",
       "      <td>0.082</td>\n",
       "      <td>0.033</td>\n",
       "      <td>2.406</td>\n",
       "      <td>4.175</td>\n",
       "    </tr>\n",
       "    <tr>\n",
       "      <th>1</th>\n",
       "      <td>pwyears</td>\n",
       "      <td>0.123</td>\n",
       "      <td>0.103</td>\n",
       "      <td>1.192</td>\n",
       "      <td>0.238</td>\n",
       "      <td>0.082</td>\n",
       "      <td>0.033</td>\n",
       "      <td>-0.083</td>\n",
       "      <td>0.328</td>\n",
       "    </tr>\n",
       "    <tr>\n",
       "      <th>2</th>\n",
       "      <td>group</td>\n",
       "      <td>0.928</td>\n",
       "      <td>0.555</td>\n",
       "      <td>1.672</td>\n",
       "      <td>0.100</td>\n",
       "      <td>0.082</td>\n",
       "      <td>0.033</td>\n",
       "      <td>-0.184</td>\n",
       "      <td>2.039</td>\n",
       "    </tr>\n",
       "    <tr>\n",
       "      <th>3</th>\n",
       "      <td>group_pwyears</td>\n",
       "      <td>-0.117</td>\n",
       "      <td>0.117</td>\n",
       "      <td>-0.994</td>\n",
       "      <td>0.324</td>\n",
       "      <td>0.082</td>\n",
       "      <td>0.033</td>\n",
       "      <td>-0.351</td>\n",
       "      <td>0.118</td>\n",
       "    </tr>\n",
       "  </tbody>\n",
       "</table>\n",
       "</div>"
      ],
      "text/plain": [
       "           names   coef     se      T   pval     r2  adj_r2  CI[2.5%]  \\\n",
       "0      Intercept  3.291  0.442  7.453  0.000  0.082   0.033     2.406   \n",
       "1        pwyears  0.123  0.103  1.192  0.238  0.082   0.033    -0.083   \n",
       "2          group  0.928  0.555  1.672  0.100  0.082   0.033    -0.184   \n",
       "3  group_pwyears -0.117  0.117 -0.994  0.324  0.082   0.033    -0.351   \n",
       "\n",
       "   CI[97.5%]  \n",
       "0      4.175  \n",
       "1      0.328  \n",
       "2      2.039  \n",
       "3      0.118  "
      ]
     },
     "execution_count": 123,
     "metadata": {},
     "output_type": "execute_result"
    }
   ],
   "source": [
    "pg.linear_regression(X = mod2[['pwyears','group','group_pwyears']], y= mod2['n'],add_intercept=True).round(3)"
   ]
  },
  {
   "cell_type": "markdown",
   "metadata": {},
   "source": [
    "Nie ma żadnego efektu, ani lata, ani bycie graczem/niegraczem, ani też interakcja nie prekładają się na liczbę znalezionych Y"
   ]
  },
  {
   "cell_type": "markdown",
   "metadata": {},
   "source": [
    "### Średnia liczba godzin gry lub pracy dziennie w ostatnich 3 miesiącach"
   ]
  },
  {
   "cell_type": "code",
   "execution_count": 126,
   "metadata": {},
   "outputs": [
    {
     "data": {
      "text/html": [
       "<div>\n",
       "<style scoped>\n",
       "    .dataframe tbody tr th:only-of-type {\n",
       "        vertical-align: middle;\n",
       "    }\n",
       "\n",
       "    .dataframe tbody tr th {\n",
       "        vertical-align: top;\n",
       "    }\n",
       "\n",
       "    .dataframe thead th {\n",
       "        text-align: right;\n",
       "    }\n",
       "</style>\n",
       "<table border=\"1\" class=\"dataframe\">\n",
       "  <thead>\n",
       "    <tr style=\"text-align: right;\">\n",
       "      <th></th>\n",
       "      <th>names</th>\n",
       "      <th>coef</th>\n",
       "      <th>se</th>\n",
       "      <th>T</th>\n",
       "      <th>pval</th>\n",
       "      <th>r2</th>\n",
       "      <th>adj_r2</th>\n",
       "      <th>CI[2.5%]</th>\n",
       "      <th>CI[97.5%]</th>\n",
       "    </tr>\n",
       "  </thead>\n",
       "  <tbody>\n",
       "    <tr>\n",
       "      <th>0</th>\n",
       "      <td>Intercept</td>\n",
       "      <td>3.402</td>\n",
       "      <td>0.740</td>\n",
       "      <td>4.595</td>\n",
       "      <td>0.000</td>\n",
       "      <td>0.08</td>\n",
       "      <td>0.031</td>\n",
       "      <td>1.919</td>\n",
       "      <td>4.885</td>\n",
       "    </tr>\n",
       "    <tr>\n",
       "      <th>1</th>\n",
       "      <td>pwhrsdaily3mo</td>\n",
       "      <td>0.056</td>\n",
       "      <td>0.114</td>\n",
       "      <td>0.492</td>\n",
       "      <td>0.625</td>\n",
       "      <td>0.08</td>\n",
       "      <td>0.031</td>\n",
       "      <td>-0.173</td>\n",
       "      <td>0.285</td>\n",
       "    </tr>\n",
       "    <tr>\n",
       "      <th>2</th>\n",
       "      <td>group</td>\n",
       "      <td>1.084</td>\n",
       "      <td>0.790</td>\n",
       "      <td>1.373</td>\n",
       "      <td>0.175</td>\n",
       "      <td>0.08</td>\n",
       "      <td>0.031</td>\n",
       "      <td>-0.498</td>\n",
       "      <td>2.667</td>\n",
       "    </tr>\n",
       "    <tr>\n",
       "      <th>3</th>\n",
       "      <td>group_pwhrsdaily3mo</td>\n",
       "      <td>-0.098</td>\n",
       "      <td>0.121</td>\n",
       "      <td>-0.807</td>\n",
       "      <td>0.423</td>\n",
       "      <td>0.08</td>\n",
       "      <td>0.031</td>\n",
       "      <td>-0.340</td>\n",
       "      <td>0.145</td>\n",
       "    </tr>\n",
       "  </tbody>\n",
       "</table>\n",
       "</div>"
      ],
      "text/plain": [
       "                 names   coef     se      T   pval    r2  adj_r2  CI[2.5%]  \\\n",
       "0            Intercept  3.402  0.740  4.595  0.000  0.08   0.031     1.919   \n",
       "1        pwhrsdaily3mo  0.056  0.114  0.492  0.625  0.08   0.031    -0.173   \n",
       "2                group  1.084  0.790  1.373  0.175  0.08   0.031    -0.498   \n",
       "3  group_pwhrsdaily3mo -0.098  0.121 -0.807  0.423  0.08   0.031    -0.340   \n",
       "\n",
       "   CI[97.5%]  \n",
       "0      4.885  \n",
       "1      0.285  \n",
       "2      2.667  \n",
       "3      0.145  "
      ]
     },
     "execution_count": 126,
     "metadata": {},
     "output_type": "execute_result"
    }
   ],
   "source": [
    "pg.linear_regression(X = mod2[['pwhrsdaily3mo','group','group_pwhrsdaily3mo']], y= mod2['n'],add_intercept=True).round(3)"
   ]
  },
  {
   "cell_type": "markdown",
   "metadata": {},
   "source": [
    "Nie ma żadnego efektu, ani lata, ani bycie graczem/niegraczem, ani też interakcja nie prekładają się na liczbę znalezionych Y"
   ]
  },
  {
   "cell_type": "markdown",
   "metadata": {},
   "source": [
    "### Średnia liczba godzin gry lub pracy tygodniowo w ostatnich 3 miesiącach"
   ]
  },
  {
   "cell_type": "code",
   "execution_count": 172,
   "metadata": {},
   "outputs": [
    {
     "data": {
      "text/html": [
       "<div>\n",
       "<style scoped>\n",
       "    .dataframe tbody tr th:only-of-type {\n",
       "        vertical-align: middle;\n",
       "    }\n",
       "\n",
       "    .dataframe tbody tr th {\n",
       "        vertical-align: top;\n",
       "    }\n",
       "\n",
       "    .dataframe thead th {\n",
       "        text-align: right;\n",
       "    }\n",
       "</style>\n",
       "<table border=\"1\" class=\"dataframe\">\n",
       "  <thead>\n",
       "    <tr style=\"text-align: right;\">\n",
       "      <th></th>\n",
       "      <th>names</th>\n",
       "      <th>coef</th>\n",
       "      <th>se</th>\n",
       "      <th>T</th>\n",
       "      <th>pval</th>\n",
       "      <th>r2</th>\n",
       "      <th>adj_r2</th>\n",
       "      <th>CI[2.5%]</th>\n",
       "      <th>CI[97.5%]</th>\n",
       "    </tr>\n",
       "  </thead>\n",
       "  <tbody>\n",
       "    <tr>\n",
       "      <th>0</th>\n",
       "      <td>Intercept</td>\n",
       "      <td>3.286031</td>\n",
       "      <td>0.698375</td>\n",
       "      <td>4.705250</td>\n",
       "      <td>0.000017</td>\n",
       "      <td>0.097626</td>\n",
       "      <td>0.049284</td>\n",
       "      <td>1.887017</td>\n",
       "      <td>4.685045</td>\n",
       "    </tr>\n",
       "    <tr>\n",
       "      <th>1</th>\n",
       "      <td>pwhrsweekly3mo</td>\n",
       "      <td>0.014320</td>\n",
       "      <td>0.020523</td>\n",
       "      <td>0.697765</td>\n",
       "      <td>0.488211</td>\n",
       "      <td>0.097626</td>\n",
       "      <td>0.049284</td>\n",
       "      <td>-0.026792</td>\n",
       "      <td>0.055432</td>\n",
       "    </tr>\n",
       "    <tr>\n",
       "      <th>2</th>\n",
       "      <td>group</td>\n",
       "      <td>1.290121</td>\n",
       "      <td>0.752362</td>\n",
       "      <td>1.714761</td>\n",
       "      <td>0.091919</td>\n",
       "      <td>0.097626</td>\n",
       "      <td>0.049284</td>\n",
       "      <td>-0.217042</td>\n",
       "      <td>2.797284</td>\n",
       "    </tr>\n",
       "    <tr>\n",
       "      <th>3</th>\n",
       "      <td>group_pwhrsweekly3mo</td>\n",
       "      <td>-0.023787</td>\n",
       "      <td>0.021633</td>\n",
       "      <td>-1.099612</td>\n",
       "      <td>0.276206</td>\n",
       "      <td>0.097626</td>\n",
       "      <td>0.049284</td>\n",
       "      <td>-0.067123</td>\n",
       "      <td>0.019548</td>\n",
       "    </tr>\n",
       "  </tbody>\n",
       "</table>\n",
       "</div>"
      ],
      "text/plain": [
       "                  names      coef        se         T      pval        r2  \\\n",
       "0             Intercept  3.286031  0.698375  4.705250  0.000017  0.097626   \n",
       "1        pwhrsweekly3mo  0.014320  0.020523  0.697765  0.488211  0.097626   \n",
       "2                 group  1.290121  0.752362  1.714761  0.091919  0.097626   \n",
       "3  group_pwhrsweekly3mo -0.023787  0.021633 -1.099612  0.276206  0.097626   \n",
       "\n",
       "     adj_r2  CI[2.5%]  CI[97.5%]  \n",
       "0  0.049284  1.887017   4.685045  \n",
       "1  0.049284 -0.026792   0.055432  \n",
       "2  0.049284 -0.217042   2.797284  \n",
       "3  0.049284 -0.067123   0.019548  "
      ]
     },
     "execution_count": 172,
     "metadata": {},
     "output_type": "execute_result"
    }
   ],
   "source": [
    "pg.linear_regression(X = mod2[['pwhrsweekly3mo','group','group_pwhrsweekly3mo']], y= mod2['n'],add_intercept=True,\n",
    "                         )"
   ]
  },
  {
   "cell_type": "markdown",
   "metadata": {},
   "source": [
    "Nie ma żadnego efektu, ani lata, ani bycie graczem/niegraczem, ani też interakcja nie prekładają się na liczbę znalezionych Y"
   ]
  }
 ],
 "metadata": {
  "kernelspec": {
   "display_name": "Python 3",
   "language": "python",
   "name": "python3"
  },
  "language_info": {
   "codemirror_mode": {
    "name": "ipython",
    "version": 3
   },
   "file_extension": ".py",
   "mimetype": "text/x-python",
   "name": "python",
   "nbconvert_exporter": "python",
   "pygments_lexer": "ipython3",
   "version": "3.7.5"
  }
 },
 "nbformat": 4,
 "nbformat_minor": 4
}
